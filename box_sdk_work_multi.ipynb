{
 "cells": [
  {
   "cell_type": "code",
   "execution_count": 33,
   "metadata": {},
   "outputs": [
    {
     "name": "stdout",
     "output_type": "stream",
     "text": [
      "The current user ID is 6936353235\n",
      "<Box User - 6936353235 (Joseph Gaustad)>\n"
     ]
    }
   ],
   "source": [
    "from boxsdk import OAuth2, Client\n",
    "from pathlib import Path\n",
    "import time\n",
    "import multiprocessing\n",
    "\n",
    "auth = OAuth2(\n",
    "    client_id='mppopj23ems9esarsoz0uymdtbbmnn2m',\n",
    "    client_secret='J4oYDvND78wQWsmcEJxjvyz5CsKvH7Iz',\n",
    "    access_token='6TtykhjnjdUWpSzRXKpeJpfsRBUQAgAI',\n",
    ")\n",
    "\n",
    "client = Client(auth)\n",
    "\n",
    "user = client.user().get()\n",
    "print('The current user ID is {0}'.format(user.id))\n",
    "print(user)"
   ]
  },
  {
   "cell_type": "code",
   "execution_count": 2,
   "metadata": {
    "collapsed": true,
    "jupyter": {
     "outputs_hidden": true,
     "source_hidden": true
    }
   },
   "outputs": [
    {
     "ename": "FileNotFoundError",
     "evalue": "[Errno 2] No such file or directory: '81479_7ydilrbs_config.json'",
     "output_type": "error",
     "traceback": [
      "\u001b[0;31m---------------------------------------------------------------------------\u001b[0m",
      "\u001b[0;31mFileNotFoundError\u001b[0m                         Traceback (most recent call last)",
      "\u001b[0;32m<ipython-input-2-10bc564b28ea>\u001b[0m in \u001b[0;36m<module>\u001b[0;34m\u001b[0m\n\u001b[1;32m      1\u001b[0m \u001b[0;31m## using JWTAUth\u001b[0m\u001b[0;34m\u001b[0m\u001b[0;34m\u001b[0m\u001b[0;34m\u001b[0m\u001b[0m\n\u001b[1;32m      2\u001b[0m \u001b[0;32mfrom\u001b[0m \u001b[0mboxsdk\u001b[0m \u001b[0;32mimport\u001b[0m \u001b[0mJWTAuth\u001b[0m\u001b[0;34m,\u001b[0m \u001b[0mClient\u001b[0m\u001b[0;34m\u001b[0m\u001b[0;34m\u001b[0m\u001b[0m\n\u001b[0;32m----> 3\u001b[0;31m \u001b[0mconfig\u001b[0m \u001b[0;34m=\u001b[0m \u001b[0mJWTAuth\u001b[0m\u001b[0;34m.\u001b[0m\u001b[0mfrom_settings_file\u001b[0m\u001b[0;34m(\u001b[0m\u001b[0;34m'81479_7ydilrbs_config.json'\u001b[0m\u001b[0;34m)\u001b[0m\u001b[0;34m\u001b[0m\u001b[0;34m\u001b[0m\u001b[0m\n\u001b[0m\u001b[1;32m      4\u001b[0m \u001b[0mclient\u001b[0m \u001b[0;34m=\u001b[0m \u001b[0mClient\u001b[0m\u001b[0;34m(\u001b[0m\u001b[0mconfig\u001b[0m\u001b[0;34m)\u001b[0m\u001b[0;34m\u001b[0m\u001b[0;34m\u001b[0m\u001b[0m\n\u001b[1;32m      5\u001b[0m \u001b[0muser\u001b[0m \u001b[0;34m=\u001b[0m \u001b[0mclient\u001b[0m\u001b[0;34m.\u001b[0m\u001b[0muser\u001b[0m\u001b[0;34m(\u001b[0m\u001b[0;34m)\u001b[0m\u001b[0;34m.\u001b[0m\u001b[0mget\u001b[0m\u001b[0;34m(\u001b[0m\u001b[0;34m)\u001b[0m\u001b[0;34m\u001b[0m\u001b[0;34m\u001b[0m\u001b[0m\n",
      "\u001b[0;32m~/anaconda3/lib/python3.7/site-packages/boxsdk/auth/jwt_auth.py\u001b[0m in \u001b[0;36mfrom_settings_file\u001b[0;34m(cls, settings_file_sys_path, **kwargs)\u001b[0m\n\u001b[1;32m    501\u001b[0m         \u001b[0;34m:\u001b[0m\u001b[0mrtype\u001b[0m\u001b[0;34m:\u001b[0m                         \u001b[0;34m:\u001b[0m\u001b[0;32mclass\u001b[0m\u001b[0;34m:\u001b[0m\u001b[0;31m`\u001b[0m\u001b[0mJWTAuth\u001b[0m\u001b[0;31m`\u001b[0m\u001b[0;34m\u001b[0m\u001b[0;34m\u001b[0m\u001b[0m\n\u001b[1;32m    502\u001b[0m         \"\"\"\n\u001b[0;32m--> 503\u001b[0;31m         \u001b[0;32mwith\u001b[0m \u001b[0mopen\u001b[0m\u001b[0;34m(\u001b[0m\u001b[0msettings_file_sys_path\u001b[0m\u001b[0;34m)\u001b[0m \u001b[0;32mas\u001b[0m \u001b[0mconfig_file\u001b[0m\u001b[0;34m:\u001b[0m\u001b[0;34m\u001b[0m\u001b[0;34m\u001b[0m\u001b[0m\n\u001b[0m\u001b[1;32m    504\u001b[0m             \u001b[0mconfig_dictionary\u001b[0m \u001b[0;34m=\u001b[0m \u001b[0mjson\u001b[0m\u001b[0;34m.\u001b[0m\u001b[0mload\u001b[0m\u001b[0;34m(\u001b[0m\u001b[0mconfig_file\u001b[0m\u001b[0;34m)\u001b[0m\u001b[0;34m\u001b[0m\u001b[0;34m\u001b[0m\u001b[0m\n\u001b[1;32m    505\u001b[0m             \u001b[0;32mreturn\u001b[0m \u001b[0mcls\u001b[0m\u001b[0;34m.\u001b[0m\u001b[0mfrom_settings_dictionary\u001b[0m\u001b[0;34m(\u001b[0m\u001b[0mconfig_dictionary\u001b[0m\u001b[0;34m,\u001b[0m \u001b[0;34m**\u001b[0m\u001b[0mkwargs\u001b[0m\u001b[0;34m)\u001b[0m\u001b[0;34m\u001b[0m\u001b[0;34m\u001b[0m\u001b[0m\n",
      "\u001b[0;31mFileNotFoundError\u001b[0m: [Errno 2] No such file or directory: '81479_7ydilrbs_config.json'"
     ]
    }
   ],
   "source": [
    "## using JWTAUth\n",
    "from boxsdk import JWTAuth, Client\n",
    "config = JWTAuth.from_settings_file('81479_7ydilrbs_config.json')\n",
    "client = Client(config)\n",
    "user = client.user().get()\n",
    "print('The current user ID is {0}'.format(user.id))\n",
    "print(user)"
   ]
  },
  {
   "cell_type": "code",
   "execution_count": 29,
   "metadata": {},
   "outputs": [],
   "source": [
    "def downloader(path, item):\n",
    "    #print('\\r', end = '')\n",
    "    print(path/item.name, 'starting download.')\n",
    "\n",
    "    with open(path/str(item.name), 'wb') as f:\n",
    "        item.download_to(f)\n",
    "        #print('Downloaded', target_folder/str(item.name))\n",
    "        \n",
    "    #print('\\r', end = '')"
   ]
  },
  {
   "cell_type": "code",
   "execution_count": 35,
   "metadata": {},
   "outputs": [],
   "source": [
    "#toy example\n",
    "items = ['655895782085', '655896664668', '655895351039', '655896434822', '655895565256']\n",
    "path = Path('/Volumes/2TB_nvme/init_box_download_multi')\n",
    "\n",
    "def download_file(fileid):\n",
    "    item = client.file(file_id=fileid).get()\n",
    "    with open(path/str(item.name), 'wb') as f:\n",
    "        item.download_to(f)\n",
    "\n",
    "download_file('655895782085')"
   ]
  },
  {
   "cell_type": "code",
   "execution_count": 37,
   "metadata": {},
   "outputs": [
    {
     "name": "stdout",
     "output_type": "stream",
     "text": [
      "5 items downloaded in /Volumes/2TB_nvme/init_box_download_multi in 201.5202260017395 seconds.\n"
     ]
    }
   ],
   "source": [
    "#multiprocessing\n",
    "if __name__ == '__main__':\n",
    "    starttime = time.time()\n",
    "    pool = multiprocessing.Pool(5)\n",
    "    pool.map(download_file, items)\n",
    "    pool.close()\n",
    "    print(f'{len(items)} items downloaded in {path} in {(time.time() - starttime)} seconds.')\n",
    "\n",
    "\n"
   ]
  },
  {
   "cell_type": "code",
   "execution_count": 31,
   "metadata": {},
   "outputs": [],
   "source": [
    "def copy_box(target_folder, box_folder = '93670449030'):\n",
    "    '''This function takes a string as a target directory to download a the box folder contents.  default ID is the `Environmental_Data_MASTER`'''\n",
    "    # use pathlib to create path and directory if necessary.\n",
    "    path = Path(target_folder)\n",
    "    if not path.is_dir():\n",
    "        path.mkdir()\n",
    "        \n",
    "    # get all items in box folder\n",
    "    folder_items = client.folder(folder_id=box_folder).get_items()\n",
    "    \n",
    "    # iterate through each item\n",
    "    files = []\n",
    "    sub_dirs = []\n",
    "    for item in folder_items:\n",
    "        if item.type == 'folder': sub_dirs.append(item)\n",
    "        \n",
    "        elif Path(path/str(item.name)).is_file():\n",
    "            continue\n",
    "        \n",
    "        elif item.type == 'file': files.append((path,item))\n",
    "            \n",
    "        else: print(\"Weird file type:\", vars(item))\n",
    "    \n",
    "    if __name__ == '__main__':\n",
    "        starttime = time.time()\n",
    "        pool = multiprocessing.Pool(2)\n",
    "        pool.map(downloader, files)\n",
    "        pool.close()\n",
    "        print(f'{len(files)} items downloaded in {path} in {(time.time() - starttime)} seconds.')\n",
    "\n",
    "#        for item in files:\n",
    "#            print(item.name, 'process starting....')\n",
    "#            p = multiprocessing.Process(target=downloader, args=(path, item))\n",
    "#            processes.append(p)\n",
    "#            p.start()\n",
    "\n",
    "        #print(processes)\n",
    "\n",
    "#        for process in processes:\n",
    "#            process.join()\n",
    "\n",
    "#        print(f'{len(processes)} items downloaded in {path} in {(time.time() - starttime)} seconds.')\n",
    "        \n",
    "    for item in sub_dirs:\n",
    "        copy_box(path/str(item.name), item.id)        \n",
    "        \n",
    "        #####\n",
    "    "
   ]
  },
  {
   "cell_type": "code",
   "execution_count": 32,
   "metadata": {},
   "outputs": [
    {
     "name": "stdout",
     "output_type": "stream",
     "text": [
      "0 items downloaded in /Volumes/2TB_nvme/init_box_download_multi in 0.008804082870483398 seconds.\n",
      "0 items downloaded in /Volumes/2TB_nvme/init_box_download_multi/Air_Pollution in 0.009589910507202148 seconds.\n",
      "0 items downloaded in /Volumes/2TB_nvme/init_box_download_multi/Air_Pollution/AFS in 0.013540029525756836 seconds.\n",
      "0 items downloaded in /Volumes/2TB_nvme/init_box_download_multi/Air_Pollution/Air Data in 0.010238885879516602 seconds.\n",
      "0 items downloaded in /Volumes/2TB_nvme/init_box_download_multi/Air_Pollution/Air Data/PM25_1990_1999 in 0.013396978378295898 seconds.\n",
      "0 items downloaded in /Volumes/2TB_nvme/init_box_download_multi/Air_Pollution/Air Data/PowerPlants_CO2 in 0.009846210479736328 seconds.\n",
      "0 items downloaded in /Volumes/2TB_nvme/init_box_download_multi/Air_Pollution/AirModelComparison_JimAir in 0.009410858154296875 seconds.\n"
     ]
    },
    {
     "ename": "TypeError",
     "evalue": "can't pickle _thread.lock objects",
     "output_type": "error",
     "traceback": [
      "\u001b[0;31m---------------------------------------------------------------------------\u001b[0m",
      "\u001b[0;31mTypeError\u001b[0m                                 Traceback (most recent call last)",
      "\u001b[0;32m<ipython-input-32-2d98394a1198>\u001b[0m in \u001b[0;36m<module>\u001b[0;34m\u001b[0m\n\u001b[0;32m----> 1\u001b[0;31m \u001b[0mcopy_box\u001b[0m\u001b[0;34m(\u001b[0m\u001b[0;34m'/Volumes/2TB_nvme/init_box_download_multi'\u001b[0m\u001b[0;34m)\u001b[0m\u001b[0;34m\u001b[0m\u001b[0;34m\u001b[0m\u001b[0m\n\u001b[0m",
      "\u001b[0;32m<ipython-input-31-25c2781dd182>\u001b[0m in \u001b[0;36mcopy_box\u001b[0;34m(target_folder, box_folder)\u001b[0m\n\u001b[1;32m     43\u001b[0m \u001b[0;34m\u001b[0m\u001b[0m\n\u001b[1;32m     44\u001b[0m     \u001b[0;32mfor\u001b[0m \u001b[0mitem\u001b[0m \u001b[0;32min\u001b[0m \u001b[0msub_dirs\u001b[0m\u001b[0;34m:\u001b[0m\u001b[0;34m\u001b[0m\u001b[0;34m\u001b[0m\u001b[0m\n\u001b[0;32m---> 45\u001b[0;31m         \u001b[0mcopy_box\u001b[0m\u001b[0;34m(\u001b[0m\u001b[0mpath\u001b[0m\u001b[0;34m/\u001b[0m\u001b[0mstr\u001b[0m\u001b[0;34m(\u001b[0m\u001b[0mitem\u001b[0m\u001b[0;34m.\u001b[0m\u001b[0mname\u001b[0m\u001b[0;34m)\u001b[0m\u001b[0;34m,\u001b[0m \u001b[0mitem\u001b[0m\u001b[0;34m.\u001b[0m\u001b[0mid\u001b[0m\u001b[0;34m)\u001b[0m\u001b[0;34m\u001b[0m\u001b[0;34m\u001b[0m\u001b[0m\n\u001b[0m\u001b[1;32m     46\u001b[0m \u001b[0;34m\u001b[0m\u001b[0m\n\u001b[1;32m     47\u001b[0m         \u001b[0;31m#####\u001b[0m\u001b[0;34m\u001b[0m\u001b[0;34m\u001b[0m\u001b[0;34m\u001b[0m\u001b[0m\n",
      "\u001b[0;32m<ipython-input-31-25c2781dd182>\u001b[0m in \u001b[0;36mcopy_box\u001b[0;34m(target_folder, box_folder)\u001b[0m\n\u001b[1;32m     43\u001b[0m \u001b[0;34m\u001b[0m\u001b[0m\n\u001b[1;32m     44\u001b[0m     \u001b[0;32mfor\u001b[0m \u001b[0mitem\u001b[0m \u001b[0;32min\u001b[0m \u001b[0msub_dirs\u001b[0m\u001b[0;34m:\u001b[0m\u001b[0;34m\u001b[0m\u001b[0;34m\u001b[0m\u001b[0m\n\u001b[0;32m---> 45\u001b[0;31m         \u001b[0mcopy_box\u001b[0m\u001b[0;34m(\u001b[0m\u001b[0mpath\u001b[0m\u001b[0;34m/\u001b[0m\u001b[0mstr\u001b[0m\u001b[0;34m(\u001b[0m\u001b[0mitem\u001b[0m\u001b[0;34m.\u001b[0m\u001b[0mname\u001b[0m\u001b[0;34m)\u001b[0m\u001b[0;34m,\u001b[0m \u001b[0mitem\u001b[0m\u001b[0;34m.\u001b[0m\u001b[0mid\u001b[0m\u001b[0;34m)\u001b[0m\u001b[0;34m\u001b[0m\u001b[0;34m\u001b[0m\u001b[0m\n\u001b[0m\u001b[1;32m     46\u001b[0m \u001b[0;34m\u001b[0m\u001b[0m\n\u001b[1;32m     47\u001b[0m         \u001b[0;31m#####\u001b[0m\u001b[0;34m\u001b[0m\u001b[0;34m\u001b[0m\u001b[0;34m\u001b[0m\u001b[0m\n",
      "\u001b[0;32m<ipython-input-31-25c2781dd182>\u001b[0m in \u001b[0;36mcopy_box\u001b[0;34m(target_folder, box_folder)\u001b[0m\n\u001b[1;32m     25\u001b[0m         \u001b[0mstarttime\u001b[0m \u001b[0;34m=\u001b[0m \u001b[0mtime\u001b[0m\u001b[0;34m.\u001b[0m\u001b[0mtime\u001b[0m\u001b[0;34m(\u001b[0m\u001b[0;34m)\u001b[0m\u001b[0;34m\u001b[0m\u001b[0;34m\u001b[0m\u001b[0m\n\u001b[1;32m     26\u001b[0m         \u001b[0mpool\u001b[0m \u001b[0;34m=\u001b[0m \u001b[0mmultiprocessing\u001b[0m\u001b[0;34m.\u001b[0m\u001b[0mPool\u001b[0m\u001b[0;34m(\u001b[0m\u001b[0;36m2\u001b[0m\u001b[0;34m)\u001b[0m\u001b[0;34m\u001b[0m\u001b[0;34m\u001b[0m\u001b[0m\n\u001b[0;32m---> 27\u001b[0;31m         \u001b[0mpool\u001b[0m\u001b[0;34m.\u001b[0m\u001b[0mmap\u001b[0m\u001b[0;34m(\u001b[0m\u001b[0mdownloader\u001b[0m\u001b[0;34m,\u001b[0m \u001b[0mfiles\u001b[0m\u001b[0;34m)\u001b[0m\u001b[0;34m\u001b[0m\u001b[0;34m\u001b[0m\u001b[0m\n\u001b[0m\u001b[1;32m     28\u001b[0m         \u001b[0mpool\u001b[0m\u001b[0;34m.\u001b[0m\u001b[0mclose\u001b[0m\u001b[0;34m(\u001b[0m\u001b[0;34m)\u001b[0m\u001b[0;34m\u001b[0m\u001b[0;34m\u001b[0m\u001b[0m\n\u001b[1;32m     29\u001b[0m         \u001b[0mprint\u001b[0m\u001b[0;34m(\u001b[0m\u001b[0;34mf'{len(files)} items downloaded in {path} in {(time.time() - starttime)} seconds.'\u001b[0m\u001b[0;34m)\u001b[0m\u001b[0;34m\u001b[0m\u001b[0;34m\u001b[0m\u001b[0m\n",
      "\u001b[0;32m~/anaconda3/lib/python3.7/multiprocessing/pool.py\u001b[0m in \u001b[0;36mmap\u001b[0;34m(self, func, iterable, chunksize)\u001b[0m\n\u001b[1;32m    266\u001b[0m         \u001b[0;32min\u001b[0m \u001b[0ma\u001b[0m \u001b[0mlist\u001b[0m \u001b[0mthat\u001b[0m \u001b[0;32mis\u001b[0m \u001b[0mreturned\u001b[0m\u001b[0;34m.\u001b[0m\u001b[0;34m\u001b[0m\u001b[0;34m\u001b[0m\u001b[0m\n\u001b[1;32m    267\u001b[0m         '''\n\u001b[0;32m--> 268\u001b[0;31m         \u001b[0;32mreturn\u001b[0m \u001b[0mself\u001b[0m\u001b[0;34m.\u001b[0m\u001b[0m_map_async\u001b[0m\u001b[0;34m(\u001b[0m\u001b[0mfunc\u001b[0m\u001b[0;34m,\u001b[0m \u001b[0miterable\u001b[0m\u001b[0;34m,\u001b[0m \u001b[0mmapstar\u001b[0m\u001b[0;34m,\u001b[0m \u001b[0mchunksize\u001b[0m\u001b[0;34m)\u001b[0m\u001b[0;34m.\u001b[0m\u001b[0mget\u001b[0m\u001b[0;34m(\u001b[0m\u001b[0;34m)\u001b[0m\u001b[0;34m\u001b[0m\u001b[0;34m\u001b[0m\u001b[0m\n\u001b[0m\u001b[1;32m    269\u001b[0m \u001b[0;34m\u001b[0m\u001b[0m\n\u001b[1;32m    270\u001b[0m     \u001b[0;32mdef\u001b[0m \u001b[0mstarmap\u001b[0m\u001b[0;34m(\u001b[0m\u001b[0mself\u001b[0m\u001b[0;34m,\u001b[0m \u001b[0mfunc\u001b[0m\u001b[0;34m,\u001b[0m \u001b[0miterable\u001b[0m\u001b[0;34m,\u001b[0m \u001b[0mchunksize\u001b[0m\u001b[0;34m=\u001b[0m\u001b[0;32mNone\u001b[0m\u001b[0;34m)\u001b[0m\u001b[0;34m:\u001b[0m\u001b[0;34m\u001b[0m\u001b[0;34m\u001b[0m\u001b[0m\n",
      "\u001b[0;32m~/anaconda3/lib/python3.7/multiprocessing/pool.py\u001b[0m in \u001b[0;36mget\u001b[0;34m(self, timeout)\u001b[0m\n\u001b[1;32m    655\u001b[0m             \u001b[0;32mreturn\u001b[0m \u001b[0mself\u001b[0m\u001b[0;34m.\u001b[0m\u001b[0m_value\u001b[0m\u001b[0;34m\u001b[0m\u001b[0;34m\u001b[0m\u001b[0m\n\u001b[1;32m    656\u001b[0m         \u001b[0;32melse\u001b[0m\u001b[0;34m:\u001b[0m\u001b[0;34m\u001b[0m\u001b[0;34m\u001b[0m\u001b[0m\n\u001b[0;32m--> 657\u001b[0;31m             \u001b[0;32mraise\u001b[0m \u001b[0mself\u001b[0m\u001b[0;34m.\u001b[0m\u001b[0m_value\u001b[0m\u001b[0;34m\u001b[0m\u001b[0;34m\u001b[0m\u001b[0m\n\u001b[0m\u001b[1;32m    658\u001b[0m \u001b[0;34m\u001b[0m\u001b[0m\n\u001b[1;32m    659\u001b[0m     \u001b[0;32mdef\u001b[0m \u001b[0m_set\u001b[0m\u001b[0;34m(\u001b[0m\u001b[0mself\u001b[0m\u001b[0;34m,\u001b[0m \u001b[0mi\u001b[0m\u001b[0;34m,\u001b[0m \u001b[0mobj\u001b[0m\u001b[0;34m)\u001b[0m\u001b[0;34m:\u001b[0m\u001b[0;34m\u001b[0m\u001b[0;34m\u001b[0m\u001b[0m\n",
      "\u001b[0;32m~/anaconda3/lib/python3.7/multiprocessing/pool.py\u001b[0m in \u001b[0;36m_handle_tasks\u001b[0;34m(taskqueue, put, outqueue, pool, cache)\u001b[0m\n\u001b[1;32m    429\u001b[0m                         \u001b[0;32mbreak\u001b[0m\u001b[0;34m\u001b[0m\u001b[0;34m\u001b[0m\u001b[0m\n\u001b[1;32m    430\u001b[0m                     \u001b[0;32mtry\u001b[0m\u001b[0;34m:\u001b[0m\u001b[0;34m\u001b[0m\u001b[0;34m\u001b[0m\u001b[0m\n\u001b[0;32m--> 431\u001b[0;31m                         \u001b[0mput\u001b[0m\u001b[0;34m(\u001b[0m\u001b[0mtask\u001b[0m\u001b[0;34m)\u001b[0m\u001b[0;34m\u001b[0m\u001b[0;34m\u001b[0m\u001b[0m\n\u001b[0m\u001b[1;32m    432\u001b[0m                     \u001b[0;32mexcept\u001b[0m \u001b[0mException\u001b[0m \u001b[0;32mas\u001b[0m \u001b[0me\u001b[0m\u001b[0;34m:\u001b[0m\u001b[0;34m\u001b[0m\u001b[0;34m\u001b[0m\u001b[0m\n\u001b[1;32m    433\u001b[0m                         \u001b[0mjob\u001b[0m\u001b[0;34m,\u001b[0m \u001b[0midx\u001b[0m \u001b[0;34m=\u001b[0m \u001b[0mtask\u001b[0m\u001b[0;34m[\u001b[0m\u001b[0;34m:\u001b[0m\u001b[0;36m2\u001b[0m\u001b[0;34m]\u001b[0m\u001b[0;34m\u001b[0m\u001b[0;34m\u001b[0m\u001b[0m\n",
      "\u001b[0;32m~/anaconda3/lib/python3.7/multiprocessing/connection.py\u001b[0m in \u001b[0;36msend\u001b[0;34m(self, obj)\u001b[0m\n\u001b[1;32m    204\u001b[0m         \u001b[0mself\u001b[0m\u001b[0;34m.\u001b[0m\u001b[0m_check_closed\u001b[0m\u001b[0;34m(\u001b[0m\u001b[0;34m)\u001b[0m\u001b[0;34m\u001b[0m\u001b[0;34m\u001b[0m\u001b[0m\n\u001b[1;32m    205\u001b[0m         \u001b[0mself\u001b[0m\u001b[0;34m.\u001b[0m\u001b[0m_check_writable\u001b[0m\u001b[0;34m(\u001b[0m\u001b[0;34m)\u001b[0m\u001b[0;34m\u001b[0m\u001b[0;34m\u001b[0m\u001b[0m\n\u001b[0;32m--> 206\u001b[0;31m         \u001b[0mself\u001b[0m\u001b[0;34m.\u001b[0m\u001b[0m_send_bytes\u001b[0m\u001b[0;34m(\u001b[0m\u001b[0m_ForkingPickler\u001b[0m\u001b[0;34m.\u001b[0m\u001b[0mdumps\u001b[0m\u001b[0;34m(\u001b[0m\u001b[0mobj\u001b[0m\u001b[0;34m)\u001b[0m\u001b[0;34m)\u001b[0m\u001b[0;34m\u001b[0m\u001b[0;34m\u001b[0m\u001b[0m\n\u001b[0m\u001b[1;32m    207\u001b[0m \u001b[0;34m\u001b[0m\u001b[0m\n\u001b[1;32m    208\u001b[0m     \u001b[0;32mdef\u001b[0m \u001b[0mrecv_bytes\u001b[0m\u001b[0;34m(\u001b[0m\u001b[0mself\u001b[0m\u001b[0;34m,\u001b[0m \u001b[0mmaxlength\u001b[0m\u001b[0;34m=\u001b[0m\u001b[0;32mNone\u001b[0m\u001b[0;34m)\u001b[0m\u001b[0;34m:\u001b[0m\u001b[0;34m\u001b[0m\u001b[0;34m\u001b[0m\u001b[0m\n",
      "\u001b[0;32m~/anaconda3/lib/python3.7/multiprocessing/reduction.py\u001b[0m in \u001b[0;36mdumps\u001b[0;34m(cls, obj, protocol)\u001b[0m\n\u001b[1;32m     49\u001b[0m     \u001b[0;32mdef\u001b[0m \u001b[0mdumps\u001b[0m\u001b[0;34m(\u001b[0m\u001b[0mcls\u001b[0m\u001b[0;34m,\u001b[0m \u001b[0mobj\u001b[0m\u001b[0;34m,\u001b[0m \u001b[0mprotocol\u001b[0m\u001b[0;34m=\u001b[0m\u001b[0;32mNone\u001b[0m\u001b[0;34m)\u001b[0m\u001b[0;34m:\u001b[0m\u001b[0;34m\u001b[0m\u001b[0;34m\u001b[0m\u001b[0m\n\u001b[1;32m     50\u001b[0m         \u001b[0mbuf\u001b[0m \u001b[0;34m=\u001b[0m \u001b[0mio\u001b[0m\u001b[0;34m.\u001b[0m\u001b[0mBytesIO\u001b[0m\u001b[0;34m(\u001b[0m\u001b[0;34m)\u001b[0m\u001b[0;34m\u001b[0m\u001b[0;34m\u001b[0m\u001b[0m\n\u001b[0;32m---> 51\u001b[0;31m         \u001b[0mcls\u001b[0m\u001b[0;34m(\u001b[0m\u001b[0mbuf\u001b[0m\u001b[0;34m,\u001b[0m \u001b[0mprotocol\u001b[0m\u001b[0;34m)\u001b[0m\u001b[0;34m.\u001b[0m\u001b[0mdump\u001b[0m\u001b[0;34m(\u001b[0m\u001b[0mobj\u001b[0m\u001b[0;34m)\u001b[0m\u001b[0;34m\u001b[0m\u001b[0;34m\u001b[0m\u001b[0m\n\u001b[0m\u001b[1;32m     52\u001b[0m         \u001b[0;32mreturn\u001b[0m \u001b[0mbuf\u001b[0m\u001b[0;34m.\u001b[0m\u001b[0mgetbuffer\u001b[0m\u001b[0;34m(\u001b[0m\u001b[0;34m)\u001b[0m\u001b[0;34m\u001b[0m\u001b[0;34m\u001b[0m\u001b[0m\n\u001b[1;32m     53\u001b[0m \u001b[0;34m\u001b[0m\u001b[0m\n",
      "\u001b[0;31mTypeError\u001b[0m: can't pickle _thread.lock objects"
     ]
    }
   ],
   "source": [
    "copy_box('/Volumes/2TB_nvme/init_box_download_multi')"
   ]
  },
  {
   "cell_type": "code",
   "execution_count": 30,
   "metadata": {},
   "outputs": [],
   "source": [
    "folder_items = client.folder(folder_id='93670449030').get_items()"
   ]
  },
  {
   "cell_type": "code",
   "execution_count": 31,
   "metadata": {},
   "outputs": [
    {
     "name": "stdout",
     "output_type": "stream",
     "text": [
      "Folder 93675974650 is named \"Air_Pollution\"\n",
      "Folder 111822616290 is named \"Boundaries\"\n",
      "Folder 93676481690 is named \"Chemicals_Hazardous_Waste\"\n",
      "Folder 93676982303 is named \"Drinking_Water\"\n",
      "Folder 93101593845 is named \"Fallout EPA\"\n",
      "Folder 93675385253 is named \"Ground_Water\"\n",
      "Folder 93676991156 is named \"Heavy_Metals\"\n",
      "Folder 107607504405 is named \"ICPSR_RAND\"\n",
      "Folder 112756166570 is named \"LandCover\"\n",
      "Folder 93845957418 is named \"Miscellaneous\"\n",
      "Folder 93676743393 is named \"Pesticides\"\n",
      "Folder 93674659485 is named \"Radiation\"\n",
      "Folder 93676016444 is named \"Radon\"\n",
      "Folder 93674675131 is named \"Superfunds\"\n",
      "Folder 112888553460 is named \"VULCAN_FFCO2\"\n",
      "Folder 112747043084 is named \"WalkabilityIndex\"\n",
      "File 659798412085 is named \"Metadata Fields.docx\"\n",
      "File 619412509120 is named \"READ_ME.xlsx\"\n"
     ]
    }
   ],
   "source": [
    "for item in folder_items:\n",
    "    print('{0} {1} is named \"{2}\"'.format(item.type.capitalize(), item.id, item.name))"
   ]
  },
  {
   "cell_type": "code",
   "execution_count": 52,
   "metadata": {},
   "outputs": [
    {
     "name": "stdout",
     "output_type": "stream",
     "text": [
      "{'_response_object': {'type': 'file', 'id': '619412509120', 'file_version': <Box FileVersion - 707731312867>, 'sequence_id': '73', 'etag': '73', 'sha1': 'dd2c7f07da2dc163409ff6a8fb61e4c71c40af58', 'name': 'READ_ME.xlsx', 'description': '', 'size': 55357, 'path_collection': {'total_count': 2, 'entries': [<Box Folder - 0 (All Files)>, <Box Folder - 93670449030 (Environmental_Data_MASTER)>]}, 'created_at': '2020-02-19T08:03:13-08:00', 'modified_at': '2020-05-19T15:37:47-07:00', 'trashed_at': None, 'purged_at': None, 'content_created_at': '2020-02-19T08:02:24-08:00', 'content_modified_at': '2020-05-19T15:36:10-07:00', 'created_by': <Box User - 230268809 (Heidi Anne Hanson)>, 'modified_by': <Box User - 262768733 (JOEMY MARIE RAMSAY)>, 'owned_by': <Box User - 7664673418 (JACOB AMBROSE)>, 'shared_link': None, 'parent': <Box Folder - 93670449030 (Environmental_Data_MASTER)>, 'item_status': 'active'}, 'type': 'file', 'id': '619412509120', 'file_version': <Box FileVersion - 707731312867>, 'sequence_id': '73', 'etag': '73', 'sha1': 'dd2c7f07da2dc163409ff6a8fb61e4c71c40af58', 'name': 'READ_ME.xlsx', 'description': '', 'size': 55357, 'path_collection': {'total_count': 2, 'entries': [<Box Folder - 0 (All Files)>, <Box Folder - 93670449030 (Environmental_Data_MASTER)>]}, 'created_at': '2020-02-19T08:03:13-08:00', 'modified_at': '2020-05-19T15:37:47-07:00', 'trashed_at': None, 'purged_at': None, 'content_created_at': '2020-02-19T08:02:24-08:00', 'content_modified_at': '2020-05-19T15:36:10-07:00', 'created_by': <Box User - 230268809 (Heidi Anne Hanson)>, 'modified_by': <Box User - 262768733 (JOEMY MARIE RAMSAY)>, 'owned_by': <Box User - 7664673418 (JACOB AMBROSE)>, 'shared_link': None, 'parent': <Box Folder - 93670449030 (Environmental_Data_MASTER)>, 'item_status': 'active', '_session': <boxsdk.session.session.AuthorizedSession object at 0x10b765160>, '_object_id': '619412509120'}\n",
      "<class 'str'>\n"
     ]
    }
   ],
   "source": [
    "file_obj = client.file(file_id='619412509120').get()\n",
    "print(vars(file_obj))\n",
    "print(type(file_obj.id))\n",
    "output_file = open('test_download2_'+str(file_obj.name), 'wb')\n",
    "file_obj.download_to(output_file)\n",
    "output_file.close()"
   ]
  },
  {
   "cell_type": "code",
   "execution_count": 20,
   "metadata": {},
   "outputs": [
    {
     "name": "stdout",
     "output_type": "stream",
     "text": [
      "<class 'boxsdk.object.folder.Folder'>\n",
      "<class 'boxsdk.object.folder.Folder'>\n",
      "<class 'boxsdk.object.folder.Folder'>\n",
      "<class 'boxsdk.object.folder.Folder'>\n",
      "<class 'boxsdk.object.folder.Folder'>\n",
      "<class 'boxsdk.object.folder.Folder'>\n",
      "<class 'boxsdk.object.folder.Folder'>\n",
      "<class 'boxsdk.object.folder.Folder'>\n",
      "<class 'boxsdk.object.folder.Folder'>\n",
      "<class 'boxsdk.object.folder.Folder'>\n",
      "<class 'boxsdk.object.folder.Folder'>\n",
      "<class 'boxsdk.object.folder.Folder'>\n",
      "<class 'boxsdk.object.folder.Folder'>\n",
      "<class 'boxsdk.object.folder.Folder'>\n",
      "<class 'boxsdk.object.folder.Folder'>\n",
      "<class 'boxsdk.object.folder.Folder'>\n",
      "<class 'boxsdk.object.file.File'>\n",
      "<class 'boxsdk.object.file.File'>\n"
     ]
    }
   ],
   "source": [
    "for item in folder_items:\n",
    "    print(type(item))"
   ]
  },
  {
   "cell_type": "code",
   "execution_count": 4,
   "metadata": {},
   "outputs": [
    {
     "name": "stderr",
     "output_type": "stream",
     "text": [
      "\u001b[31m\"GET https://api.box.com/2.0/metadata_templates/enterprise/customer/schema\" 404 157\n",
      "{'Date': 'Mon, 15 Jun 2020 04:16:03 GMT', 'Content-Type': 'application/json', 'Transfer-Encoding': 'chunked', 'Connection': 'keep-alive', 'Strict-Transport-Security': 'max-age=31536000', 'Cache-Control': 'no-cache, no-store', 'Content-Encoding': 'gzip', 'BOX-REQUEST-ID': '09c5395ab92f47e1ed4d94fb6bb9770e5'}\n",
      "{'code': '---ound',\n",
      " 'help_url': 'http://developers.box.com/docs/#errors',\n",
      " 'message': 'Not Found',\n",
      " 'request_id': 'qlczxgfsupn6a4m',\n",
      " 'status': 404,\n",
      " 'type': 'error'}\n",
      "\u001b[0m\n"
     ]
    },
    {
     "ename": "BoxAPIException",
     "evalue": "Message: Not Found\nStatus: 404\nCode: not_found\nRequest ID: qlczxgfsupn6a4m\nHeaders: {'Date': 'Mon, 15 Jun 2020 04:16:03 GMT', 'Content-Type': 'application/json', 'Transfer-Encoding': 'chunked', 'Connection': 'keep-alive', 'Strict-Transport-Security': 'max-age=31536000', 'Cache-Control': 'no-cache, no-store', 'Content-Encoding': 'gzip', 'BOX-REQUEST-ID': '09c5395ab92f47e1ed4d94fb6bb9770e5'}\nURL: https://api.box.com/2.0/metadata_templates/enterprise/customer/schema\nMethod: GET\nContext Info: None",
     "output_type": "error",
     "traceback": [
      "\u001b[0;31m---------------------------------------------------------------------------\u001b[0m",
      "\u001b[0;31mBoxAPIException\u001b[0m                           Traceback (most recent call last)",
      "\u001b[0;32m<ipython-input-4-43934fbf5615>\u001b[0m in \u001b[0;36m<module>\u001b[0;34m\u001b[0m\n\u001b[1;32m      1\u001b[0m json_response = client.make_request(\n\u001b[1;32m      2\u001b[0m     \u001b[0;34m'GET'\u001b[0m\u001b[0;34m,\u001b[0m\u001b[0;34m\u001b[0m\u001b[0;34m\u001b[0m\u001b[0m\n\u001b[0;32m----> 3\u001b[0;31m     \u001b[0mclient\u001b[0m\u001b[0;34m.\u001b[0m\u001b[0mget_url\u001b[0m\u001b[0;34m(\u001b[0m\u001b[0;34m'metadata_templates'\u001b[0m\u001b[0;34m,\u001b[0m \u001b[0;34m'enterprise'\u001b[0m\u001b[0;34m,\u001b[0m \u001b[0;34m'customer'\u001b[0m\u001b[0;34m,\u001b[0m \u001b[0;34m'schema'\u001b[0m\u001b[0;34m)\u001b[0m\u001b[0;34m,\u001b[0m\u001b[0;34m\u001b[0m\u001b[0;34m\u001b[0m\u001b[0m\n\u001b[0m\u001b[1;32m      4\u001b[0m ).json()\n",
      "\u001b[0;32m~/anaconda3/lib/python3.7/site-packages/boxsdk/util/api_call_decorator.py\u001b[0m in \u001b[0;36mcall\u001b[0;34m(instance, *args, **kwargs)\u001b[0m\n\u001b[1;32m     69\u001b[0m \u001b[0;34m\u001b[0m\u001b[0m\n\u001b[1;32m     70\u001b[0m             \u001b[0mmethod\u001b[0m \u001b[0;34m=\u001b[0m \u001b[0mself\u001b[0m\u001b[0;34m.\u001b[0m\u001b[0m_func_that_makes_an_api_call\u001b[0m\u001b[0;34m.\u001b[0m\u001b[0m__get__\u001b[0m\u001b[0;34m(\u001b[0m\u001b[0minstance\u001b[0m\u001b[0;34m,\u001b[0m \u001b[0mowner\u001b[0m\u001b[0;34m)\u001b[0m\u001b[0;34m\u001b[0m\u001b[0;34m\u001b[0m\u001b[0m\n\u001b[0;32m---> 71\u001b[0;31m             \u001b[0;32mreturn\u001b[0m \u001b[0mmethod\u001b[0m\u001b[0;34m(\u001b[0m\u001b[0;34m*\u001b[0m\u001b[0margs\u001b[0m\u001b[0;34m,\u001b[0m \u001b[0;34m**\u001b[0m\u001b[0mkwargs\u001b[0m\u001b[0;34m)\u001b[0m\u001b[0;34m\u001b[0m\u001b[0;34m\u001b[0m\u001b[0m\n\u001b[0m\u001b[1;32m     72\u001b[0m \u001b[0;34m\u001b[0m\u001b[0m\n\u001b[1;32m     73\u001b[0m         \u001b[0;31m# Since the caller passed a non-`None` instance to `__get__()`, they\u001b[0m\u001b[0;34m\u001b[0m\u001b[0;34m\u001b[0m\u001b[0;34m\u001b[0m\u001b[0m\n",
      "\u001b[0;32m~/anaconda3/lib/python3.7/site-packages/boxsdk/client/client.py\u001b[0m in \u001b[0;36mmake_request\u001b[0;34m(self, method, url, **kwargs)\u001b[0m\n\u001b[1;32m   1333\u001b[0m             \u001b[0;34m:\u001b[0m\u001b[0;32mclass\u001b[0m\u001b[0;34m:\u001b[0m\u001b[0;31m`\u001b[0m\u001b[0mBoxAPIException\u001b[0m\u001b[0;31m`\u001b[0m\u001b[0;34m\u001b[0m\u001b[0;34m\u001b[0m\u001b[0m\n\u001b[1;32m   1334\u001b[0m         \"\"\"\n\u001b[0;32m-> 1335\u001b[0;31m         \u001b[0;32mreturn\u001b[0m \u001b[0mself\u001b[0m\u001b[0;34m.\u001b[0m\u001b[0m_session\u001b[0m\u001b[0;34m.\u001b[0m\u001b[0mrequest\u001b[0m\u001b[0;34m(\u001b[0m\u001b[0mmethod\u001b[0m\u001b[0;34m,\u001b[0m \u001b[0murl\u001b[0m\u001b[0;34m,\u001b[0m \u001b[0;34m**\u001b[0m\u001b[0mkwargs\u001b[0m\u001b[0;34m)\u001b[0m\u001b[0;34m\u001b[0m\u001b[0;34m\u001b[0m\u001b[0m\n\u001b[0m\u001b[1;32m   1336\u001b[0m \u001b[0;34m\u001b[0m\u001b[0m\n\u001b[1;32m   1337\u001b[0m     \u001b[0;34m@\u001b[0m\u001b[0mapi_call\u001b[0m\u001b[0;34m\u001b[0m\u001b[0;34m\u001b[0m\u001b[0m\n",
      "\u001b[0;32m~/anaconda3/lib/python3.7/site-packages/boxsdk/session/session.py\u001b[0m in \u001b[0;36mrequest\u001b[0;34m(self, method, url, **kwargs)\u001b[0m\n\u001b[1;32m    156\u001b[0m             \u001b[0;31m`\u001b[0m\u001b[0municode\u001b[0m\u001b[0;31m`\u001b[0m\u001b[0;34m\u001b[0m\u001b[0;34m\u001b[0m\u001b[0m\n\u001b[1;32m    157\u001b[0m         \"\"\"\n\u001b[0;32m--> 158\u001b[0;31m         \u001b[0mresponse\u001b[0m \u001b[0;34m=\u001b[0m \u001b[0mself\u001b[0m\u001b[0;34m.\u001b[0m\u001b[0m_prepare_and_send_request\u001b[0m\u001b[0;34m(\u001b[0m\u001b[0mmethod\u001b[0m\u001b[0;34m,\u001b[0m \u001b[0murl\u001b[0m\u001b[0;34m,\u001b[0m \u001b[0;34m**\u001b[0m\u001b[0mkwargs\u001b[0m\u001b[0;34m)\u001b[0m\u001b[0;34m\u001b[0m\u001b[0;34m\u001b[0m\u001b[0m\n\u001b[0m\u001b[1;32m    159\u001b[0m         \u001b[0;32mreturn\u001b[0m \u001b[0mself\u001b[0m\u001b[0;34m.\u001b[0m\u001b[0mbox_response_constructor\u001b[0m\u001b[0;34m(\u001b[0m\u001b[0mresponse\u001b[0m\u001b[0;34m)\u001b[0m\u001b[0;34m\u001b[0m\u001b[0;34m\u001b[0m\u001b[0m\n\u001b[1;32m    160\u001b[0m \u001b[0;34m\u001b[0m\u001b[0m\n",
      "\u001b[0;32m~/anaconda3/lib/python3.7/site-packages/boxsdk/session/session.py\u001b[0m in \u001b[0;36m_prepare_and_send_request\u001b[0;34m(self, method, url, headers, auto_session_renewal, expect_json_response, **kwargs)\u001b[0m\n\u001b[1;32m    404\u001b[0m             \u001b[0mnetwork_response\u001b[0m \u001b[0;34m=\u001b[0m \u001b[0mretry\u001b[0m\u001b[0;34m(\u001b[0m\u001b[0mrequest\u001b[0m\u001b[0;34m,\u001b[0m \u001b[0;34m**\u001b[0m\u001b[0mkwargs\u001b[0m\u001b[0;34m)\u001b[0m\u001b[0;34m\u001b[0m\u001b[0;34m\u001b[0m\u001b[0m\n\u001b[1;32m    405\u001b[0m \u001b[0;34m\u001b[0m\u001b[0m\n\u001b[0;32m--> 406\u001b[0;31m         \u001b[0mself\u001b[0m\u001b[0;34m.\u001b[0m\u001b[0m_raise_on_unsuccessful_request\u001b[0m\u001b[0;34m(\u001b[0m\u001b[0mnetwork_response\u001b[0m\u001b[0;34m,\u001b[0m \u001b[0mrequest\u001b[0m\u001b[0;34m)\u001b[0m\u001b[0;34m\u001b[0m\u001b[0;34m\u001b[0m\u001b[0m\n\u001b[0m\u001b[1;32m    407\u001b[0m \u001b[0;34m\u001b[0m\u001b[0m\n\u001b[1;32m    408\u001b[0m         \u001b[0;32mreturn\u001b[0m \u001b[0mnetwork_response\u001b[0m\u001b[0;34m\u001b[0m\u001b[0;34m\u001b[0m\u001b[0m\n",
      "\u001b[0;32m~/anaconda3/lib/python3.7/site-packages/boxsdk/session/session.py\u001b[0m in \u001b[0;36m_raise_on_unsuccessful_request\u001b[0;34m(network_response, request)\u001b[0m\n\u001b[1;32m    327\u001b[0m                 \u001b[0mmethod\u001b[0m\u001b[0;34m=\u001b[0m\u001b[0mrequest\u001b[0m\u001b[0;34m.\u001b[0m\u001b[0mmethod\u001b[0m\u001b[0;34m,\u001b[0m\u001b[0;34m\u001b[0m\u001b[0;34m\u001b[0m\u001b[0m\n\u001b[1;32m    328\u001b[0m                 \u001b[0mcontext_info\u001b[0m\u001b[0;34m=\u001b[0m\u001b[0mresponse_json\u001b[0m\u001b[0;34m.\u001b[0m\u001b[0mget\u001b[0m\u001b[0;34m(\u001b[0m\u001b[0;34m'context_info'\u001b[0m\u001b[0;34m,\u001b[0m \u001b[0;32mNone\u001b[0m\u001b[0;34m)\u001b[0m\u001b[0;34m,\u001b[0m\u001b[0;34m\u001b[0m\u001b[0;34m\u001b[0m\u001b[0m\n\u001b[0;32m--> 329\u001b[0;31m                 \u001b[0mnetwork_response\u001b[0m\u001b[0;34m=\u001b[0m\u001b[0mnetwork_response\u001b[0m\u001b[0;34m\u001b[0m\u001b[0;34m\u001b[0m\u001b[0m\n\u001b[0m\u001b[1;32m    330\u001b[0m             )\n\u001b[1;32m    331\u001b[0m         \u001b[0;32mif\u001b[0m \u001b[0mrequest\u001b[0m\u001b[0;34m.\u001b[0m\u001b[0mexpect_json_response\u001b[0m \u001b[0;32mand\u001b[0m \u001b[0;32mnot\u001b[0m \u001b[0mis_json_response\u001b[0m\u001b[0;34m(\u001b[0m\u001b[0mnetwork_response\u001b[0m\u001b[0;34m)\u001b[0m\u001b[0;34m:\u001b[0m\u001b[0;34m\u001b[0m\u001b[0;34m\u001b[0m\u001b[0m\n",
      "\u001b[0;31mBoxAPIException\u001b[0m: Message: Not Found\nStatus: 404\nCode: not_found\nRequest ID: qlczxgfsupn6a4m\nHeaders: {'Date': 'Mon, 15 Jun 2020 04:16:03 GMT', 'Content-Type': 'application/json', 'Transfer-Encoding': 'chunked', 'Connection': 'keep-alive', 'Strict-Transport-Security': 'max-age=31536000', 'Cache-Control': 'no-cache, no-store', 'Content-Encoding': 'gzip', 'BOX-REQUEST-ID': '09c5395ab92f47e1ed4d94fb6bb9770e5'}\nURL: https://api.box.com/2.0/metadata_templates/enterprise/customer/schema\nMethod: GET\nContext Info: None"
     ]
    }
   ],
   "source": [
    "json_response = client.make_request(\n",
    "    'GET',\n",
    "    client.get_url('metadata_templates', 'enterprise', 'customer', 'schema'),\n",
    ").json()\n"
   ]
  },
  {
   "cell_type": "code",
   "execution_count": null,
   "metadata": {},
   "outputs": [],
   "source": []
  },
  {
   "cell_type": "code",
   "execution_count": 3,
   "metadata": {},
   "outputs": [],
   "source": [
    "from boxsdk import OAuth2\n"
   ]
  },
  {
   "cell_type": "code",
   "execution_count": null,
   "metadata": {},
   "outputs": [],
   "source": []
  }
 ],
 "metadata": {
  "kernelspec": {
   "display_name": "Python 3",
   "language": "python",
   "name": "python3"
  },
  "language_info": {
   "codemirror_mode": {
    "name": "ipython",
    "version": 3
   },
   "file_extension": ".py",
   "mimetype": "text/x-python",
   "name": "python",
   "nbconvert_exporter": "python",
   "pygments_lexer": "ipython3",
   "version": "3.7.3"
  }
 },
 "nbformat": 4,
 "nbformat_minor": 4
}
