{
 "cells": [
  {
   "cell_type": "code",
   "execution_count": 33,
   "metadata": {},
   "outputs": [],
   "source": [
    "import numpy as np\n",
    "import copy\n",
    "import time\n",
    "from helper_func import *\n",
    "%load_ext autoreload"
   ]
  },
  {
   "cell_type": "code",
   "execution_count": null,
   "metadata": {},
   "outputs": [],
   "source": []
  },
  {
   "cell_type": "code",
   "execution_count": 27,
   "metadata": {},
   "outputs": [
    {
     "name": "stdout",
     "output_type": "stream",
     "text": [
      "hello bob\n"
     ]
    }
   ],
   "source": [
    "from multiprocessing import Process\n",
    "\n",
    "def f(name):\n",
    "    print('hello', name)\n",
    "\n",
    "if __name__ == '__main__':\n",
    "    p = Process(target=f, args=('bob',))\n",
    "    p.start()\n",
    "    p.join()"
   ]
  },
  {
   "cell_type": "code",
   "execution_count": 37,
   "metadata": {},
   "outputs": [
    {
     "name": "stdout",
     "output_type": "stream",
     "text": [
      "[55, 55, 55, 55, 55, 55, 55, 55, 55, 55, 55]\n"
     ]
    },
    {
     "data": {
      "text/plain": [
       "0.14136075973510742"
      ]
     },
     "execution_count": 37,
     "metadata": {},
     "output_type": "execute_result"
    }
   ],
   "source": [
    "from multiprocessing import Pool\n",
    "\n",
    "def f(x):\n",
    "    return 55\n",
    "t0 = time.time()\n",
    "if __name__ == '__main__':\n",
    "    with Pool(6) as p:\n",
    "        print(p.map(f, [1,2,3,4,5,6,767,8,1, 2, 3]))\n",
    "time.time() -t0"
   ]
  },
  {
   "cell_type": "code",
   "execution_count": 35,
   "metadata": {},
   "outputs": [
    {
     "data": {
      "text/plain": [
       "6.699562072753906e-05"
      ]
     },
     "execution_count": 35,
     "metadata": {},
     "output_type": "execute_result"
    }
   ],
   "source": [
    "def f(x):\n",
    "    return 55\n",
    "t0 = time.time()\n",
    "for x in [1,2,3,4,5,6,767,8,1, 2, 3]:\n",
    "    f(x)\n",
    "time.time() - t0"
   ]
  },
  {
   "cell_type": "code",
   "execution_count": null,
   "metadata": {},
   "outputs": [],
   "source": []
  },
  {
   "cell_type": "code",
   "execution_count": 3,
   "metadata": {},
   "outputs": [
    {
     "name": "stderr",
     "output_type": "stream",
     "text": [
      "UsageError: Line magic function `%autoreload` not found.\n"
     ]
    }
   ],
   "source": [
    "\n",
    "%autoreload 2"
   ]
  },
  {
   "cell_type": "code",
   "execution_count": 23,
   "metadata": {},
   "outputs": [
    {
     "data": {
      "text/plain": [
       "'[ 1 -1  1  0  0  0  1 -1  1  0  0  0  1  1 -1  0  0  0  0  0  0 -1 -1 -1  0  0  0  1  1  0  0  0  0 -1  1  0]'"
      ]
     },
     "execution_count": 23,
     "metadata": {},
     "output_type": "execute_result"
    }
   ],
   "source": [
    "test_state = np.array([[1,-1,1,0,0,0],[1,-1,1,0,0,0],[1,1,-1,0,0,0],[0,0,0,-1,-1,-1],[0,0,0,1,1,0],[0,0,0,-1,1,0]])\n",
    "np.array2string(test_state.flatten(), max_line_width = 200)"
   ]
  },
  {
   "cell_type": "code",
   "execution_count": 26,
   "metadata": {},
   "outputs": [
    {
     "data": {
      "text/plain": [
       "array([1, 0, 1, 0, 0, 0, 1, 0, 1, 0, 0, 0, 1, 1, 0, 0, 0, 0, 0, 0, 0, 0,\n",
       "       0, 0, 0, 0, 0, 1, 1, 0, 0, 0, 0, 0, 1, 0, 0, 1, 0, 0, 0, 0, 0, 1,\n",
       "       0, 0, 0, 0, 0, 0, 1, 0, 0, 0, 0, 0, 0, 1, 1, 1, 0, 0, 0, 0, 0, 0,\n",
       "       0, 0, 0, 1, 0, 0])"
      ]
     },
     "execution_count": 26,
     "metadata": {},
     "output_type": "execute_result"
    }
   ],
   "source": [
    "def boardstate_to_nn_input(boardstate):\n",
    "    ''' returns a 72 length array with positions'''\n",
    "    flat = copy.copy(test_state).flatten()\n",
    "    flat1 = copy.copy(flat)\n",
    "    flat1[flat1>0] = 0\n",
    "    flat1[flat1<0] = 1\n",
    "    flat[flat<0] = 0\n",
    "\n",
    "    return np.concatenate([flat,flat1])\n",
    "    \n",
    "boardstate_to_nn_input(test_state)"
   ]
  },
  {
   "cell_type": "code",
   "execution_count": 96,
   "metadata": {},
   "outputs": [
    {
     "name": "stdout",
     "output_type": "stream",
     "text": [
      "update\n"
     ]
    },
    {
     "data": {
      "text/plain": [
       "'[121000121000113000000222000110000270]'"
      ]
     },
     "execution_count": 96,
     "metadata": {},
     "output_type": "execute_result"
    }
   ],
   "source": [
    "boardstate_to_key(test_state)"
   ]
  },
  {
   "cell_type": "code",
   "execution_count": 51,
   "metadata": {},
   "outputs": [
    {
     "data": {
      "text/plain": [
       "array([[ 1,  1,  1,  0,  0,  0],\n",
       "       [ 1,  2, 44,  0,  0,  0],\n",
       "       [ 3,  1, 55,  0,  0,  0],\n",
       "       [ 0,  0,  0, -1, -1,  0],\n",
       "       [ 0,  0,  0, 11, 12,  0],\n",
       "       [ 0,  0,  0, 33, 17,  0]])"
      ]
     },
     "execution_count": 51,
     "metadata": {},
     "output_type": "execute_result"
    }
   ],
   "source": [
    "rotate_quadrant(test_state, 1, -1)"
   ]
  },
  {
   "cell_type": "code",
   "execution_count": 43,
   "metadata": {},
   "outputs": [
    {
     "data": {
      "text/plain": [
       "array([[  1,  44,  55, 100,   0,   0],\n",
       "       [  1,   2,   1,   0,   0,   0],\n",
       "       [  1,   1,   3,   0,   0,   0],\n",
       "       [  0,   0,   0,  -1,  -1,   0],\n",
       "       [  0,   0,   0,  11,  12,   0],\n",
       "       [  0,   0,   0,  33,  17,   0]])"
      ]
     },
     "execution_count": 43,
     "metadata": {},
     "output_type": "execute_result"
    }
   ],
   "source": [
    "fullmove(test_state, (2,3), 100, 2, -1)"
   ]
  },
  {
   "cell_type": "code",
   "execution_count": 39,
   "metadata": {},
   "outputs": [
    {
     "name": "stdout",
     "output_type": "stream",
     "text": [
      "[[ 1 44 55  0  0  0]\n",
      " [ 1  2  1  0  0  0]\n",
      " [ 1  1  3  0  0  0]\n",
      " [ 0  0  0 -1 -1  0]\n",
      " [ 0  0  0 11 12  0]\n",
      " [ 0  0  0 33 17  0]]\n",
      "3\n"
     ]
    },
    {
     "data": {
      "text/plain": [
       "[(0, 3),\n",
       " (0, 4),\n",
       " (0, 5),\n",
       " (1, 3),\n",
       " (1, 4),\n",
       " (1, 5),\n",
       " (2, 3),\n",
       " (2, 4),\n",
       " (2, 5),\n",
       " (3, 0),\n",
       " (3, 1),\n",
       " (3, 2),\n",
       " (3, 5),\n",
       " (4, 0),\n",
       " (4, 1),\n",
       " (4, 2),\n",
       " (4, 5),\n",
       " (5, 0),\n",
       " (5, 1),\n",
       " (5, 2),\n",
       " (5, 5)]"
      ]
     },
     "execution_count": 39,
     "metadata": {},
     "output_type": "execute_result"
    }
   ],
   "source": [
    "print(test_state)\n",
    "print(test_state[(2,2)])\n",
    "x = np.where(test_state == 0)\n",
    "x = list(zip(x[0], x[1]))\n",
    "x"
   ]
  },
  {
   "cell_type": "code",
   "execution_count": 4,
   "metadata": {},
   "outputs": [
    {
     "data": {
      "text/plain": [
       "array([[   1,   44,   55,    0,    0,    0],\n",
       "       [   1,    2,    1,    0,    0,    0],\n",
       "       [   1,    1,    3, -100,    0,    0],\n",
       "       [   0,    0,    0,   -1,   -1,    0],\n",
       "       [   0,    0,    0,   11,   12,    0],\n",
       "       [   0,    0,    0,   33,   17,    0]])"
      ]
     },
     "execution_count": 4,
     "metadata": {},
     "output_type": "execute_result"
    }
   ],
   "source": [
    "place_marble(test_state, (2,3), -100)"
   ]
  },
  {
   "cell_type": "code",
   "execution_count": null,
   "metadata": {},
   "outputs": [],
   "source": []
  },
  {
   "cell_type": "code",
   "execution_count": null,
   "metadata": {},
   "outputs": [],
   "source": []
  },
  {
   "cell_type": "code",
   "execution_count": 88,
   "metadata": {},
   "outputs": [
    {
     "name": "stdout",
     "output_type": "stream",
     "text": [
      "[1 1 1 0 0 0]\n",
      "[44  2  1  0  0  0]\n",
      "[55  1  3  0  0  0]\n",
      "[ 0  0  0 -1 11 33]\n",
      "[ 0  0  0 -1 12 17]\n",
      "[0 0 0 0 0 0]\n",
      "each column\n",
      "100\n",
      "4\n",
      "5\n",
      "-2\n",
      "23\n",
      "50\n"
     ]
    }
   ],
   "source": [
    "for x in range(6):\n",
    "    print(test_state[:,x])\n",
    "print('each column')\n",
    "for x in range(6):\n",
    "    print(sum(test_state[x,:]))"
   ]
  },
  {
   "cell_type": "code",
   "execution_count": 142,
   "metadata": {},
   "outputs": [
    {
     "data": {
      "text/plain": [
       "array([[ 1, -1,  1,  0,  0,  0],\n",
       "       [ 1,  1,  1,  0,  0,  0],\n",
       "       [ 1,  1, -1,  0,  0,  0],\n",
       "       [ 0,  0,  0, -1, -1,  1],\n",
       "       [ 0,  0,  0,  1,  1,  0],\n",
       "       [ 0,  0,  0, -1,  1,  0]])"
      ]
     },
     "execution_count": 142,
     "metadata": {},
     "output_type": "execute_result"
    }
   ],
   "source": [
    "test_state = np.array([[1,-1,1,0,0,0],[1,1,1,0,0,0],[1,1,-1,0,0,0],[0,0,0,-1,-1,1],[0,0,0,1,1,0],[0,0,0,-1,1,0]])\n",
    "test_state"
   ]
  },
  {
   "cell_type": "code",
   "execution_count": 102,
   "metadata": {},
   "outputs": [
    {
     "name": "stdout",
     "output_type": "stream",
     "text": [
      "[[1 2 1 0 0 0]\n",
      " [1 2 1 0 0 0]\n",
      " [1 1 3 0 0 0]\n",
      " [0 0 0 2 2 2]\n",
      " [0 0 0 1 1 0]\n",
      " [0 0 0 2 7 0]]\n",
      "[2.0, 2.2, 1.6, -2.0, -2.5, -1.0]\n",
      "[-2.0, -2.0, -1.6, 2.0, 1.5, 1.7777777777777777]\n",
      "(-0.32222222222222197, 0.3000000000000007)\n"
     ]
    }
   ],
   "source": [
    "def point_mass(input_mat):\n",
    "    matrix_input = copy.copy(input_mat)\n",
    "    matrix_input[matrix_input < 0] = 2\n",
    "    print(matrix_input)\n",
    "    y_column_positions = [matrix_input[:,x].dot(np.array([3,2,1,-1,-2,-3]))/sum(matrix_input[:,x]) if sum(matrix_input[:,x]) != 0 else 0 for x in range(6)]\n",
    "    #y_column_masses = [sum(matrix_input[:,x]) for x in range(6)]\n",
    "    print(y_column_positions)\n",
    "    #x_position = np.dot(y_column_positions, np.array([-3,-2,-1,1,2,3]))/sum(y_column_positions)\n",
    "    y_position = np.sum(y_column_positions)\n",
    "    \n",
    "    x_bar_positions = [matrix_input[x,:].dot(np.array([-3,-2,-1,1,2,3]))/sum(matrix_input[x,:]) if sum(matrix_input[x,:]) !=0 else 0 for x in range(matrix_input.shape[0])]\n",
    "    print(x_bar_positions)\n",
    "    x_position = np.sum(x_bar_positions)\n",
    "    \n",
    "    return x_position, y_position\n",
    "print(point_mass(test_state))\n",
    "#print(point_mass(np.rot90))"
   ]
  },
  {
   "cell_type": "code",
   "execution_count": 143,
   "metadata": {},
   "outputs": [],
   "source": [
    "def ideal_state(input_mat):\n",
    "    matrix_input = copy.copy(input_mat)\n",
    "    matrix_input[matrix_input < 0] = 2\n",
    "    encoder_matrix = np.array([[1,2,3,4,5,6],[7,8,9,10,11,12],[13,14,15,16,17,18],[19,20,21,22,23,24],[25,26,27,28,29,30],[31,32,33,34,35,36]])\n",
    "    equivalent_matrices = []\n",
    "    for x in [0,1,2,3]:\n",
    "        rot_mat = np.rot90(matrix_input, x)\n",
    "        equivalent_matrices.append(rot_mat)\n",
    "        equivalent_matrices.append(np.fliplr(rot_mat))\n",
    "        equivalent_matrices.append(np.flipud(rot_mat))\n",
    "    \n",
    "    encoded_scores = [np.dot(encoder_matrix.flatten(),equiv_matrix.flatten()) for equiv_matrix in equivalent_matrices]\n",
    "    \n",
    "    best_orientation = equivalent_matrices[encoded_scores.index(max(encoded_scores))]\n",
    "    best_orientation[best_orientation == 2] = -1\n",
    "    return best_orientation\n",
    "    \n",
    "    #print(encoder_matrix)                    \n",
    "#    return np.dot(encoder_matrix.flatten(),matrix_input.flatten())\n",
    "    "
   ]
  },
  {
   "cell_type": "code",
   "execution_count": 146,
   "metadata": {},
   "outputs": [],
   "source": [
    "z = ideal_state(test_state)"
   ]
  },
  {
   "cell_type": "code",
   "execution_count": 148,
   "metadata": {},
   "outputs": [
    {
     "name": "stdout",
     "output_type": "stream",
     "text": [
      "rotated 0 times.\n",
      "[[ 1 -1  1  0  0  0]\n",
      " [ 1  1  1  0  0  0]\n",
      " [ 1  1 -1  0  0  0]\n",
      " [ 0  0  0 -1 -1  1]\n",
      " [ 0  0  0  1  1  0]\n",
      " [ 0  0  0 -1  1  0]]\n",
      "[[ 0  0  1  0  0  0]\n",
      " [ 1  1 -1  0  0  0]\n",
      " [-1  1 -1  0  0  0]\n",
      " [ 0  0  0 -1  1  1]\n",
      " [ 0  0  0  1  1 -1]\n",
      " [ 0  0  0  1  1  1]]\n",
      "\n",
      "reflected along Y axis\n",
      "[[ 0  0  0  1 -1  1]\n",
      " [ 0  0  0  1  1  1]\n",
      " [ 0  0  0 -1  1  1]\n",
      " [ 1 -1 -1  0  0  0]\n",
      " [ 0  1  1  0  0  0]\n",
      " [ 0  1 -1  0  0  0]]\n",
      "[[ 0  0  1  0  0  0]\n",
      " [ 1  1 -1  0  0  0]\n",
      " [-1  1 -1  0  0  0]\n",
      " [ 0  0  0 -1  1  1]\n",
      " [ 0  0  0  1  1 -1]\n",
      " [ 0  0  0  1  1  1]]\n",
      "\n",
      "reflected along X axis\n",
      "[[ 0  0  0 -1  1  0]\n",
      " [ 0  0  0  1  1  0]\n",
      " [ 0  0  0 -1 -1  1]\n",
      " [ 1  1 -1  0  0  0]\n",
      " [ 1  1  1  0  0  0]\n",
      " [ 1 -1  1  0  0  0]]\n",
      "[[ 0  0  1  0  0  0]\n",
      " [ 1  1 -1  0  0  0]\n",
      " [-1  1 -1  0  0  0]\n",
      " [ 0  0  0 -1  1  1]\n",
      " [ 0  0  0  1  1 -1]\n",
      " [ 0  0  0  1  1  1]]\n",
      "_______________________________________\n",
      "rotated 1 times.\n",
      "[[ 0  0  0  1  0  0]\n",
      " [ 0  0  0 -1  1  1]\n",
      " [ 0  0  0 -1  1 -1]\n",
      " [ 1  1 -1  0  0  0]\n",
      " [-1  1  1  0  0  0]\n",
      " [ 1  1  1  0  0  0]]\n",
      "[[ 0  0  1  0  0  0]\n",
      " [ 1  1 -1  0  0  0]\n",
      " [-1  1 -1  0  0  0]\n",
      " [ 0  0  0 -1  1  1]\n",
      " [ 0  0  0  1  1 -1]\n",
      " [ 0  0  0  1  1  1]]\n",
      "\n",
      "reflected along Y axis\n",
      "[[ 0  0  1  0  0  0]\n",
      " [ 1  1 -1  0  0  0]\n",
      " [-1  1 -1  0  0  0]\n",
      " [ 0  0  0 -1  1  1]\n",
      " [ 0  0  0  1  1 -1]\n",
      " [ 0  0  0  1  1  1]]\n",
      "[[ 0  0  1  0  0  0]\n",
      " [ 1  1 -1  0  0  0]\n",
      " [-1  1 -1  0  0  0]\n",
      " [ 0  0  0 -1  1  1]\n",
      " [ 0  0  0  1  1 -1]\n",
      " [ 0  0  0  1  1  1]]\n",
      "\n",
      "reflected along X axis\n",
      "[[ 1  1  1  0  0  0]\n",
      " [-1  1  1  0  0  0]\n",
      " [ 1  1 -1  0  0  0]\n",
      " [ 0  0  0 -1  1 -1]\n",
      " [ 0  0  0 -1  1  1]\n",
      " [ 0  0  0  1  0  0]]\n",
      "[[ 0  0  1  0  0  0]\n",
      " [ 1  1 -1  0  0  0]\n",
      " [-1  1 -1  0  0  0]\n",
      " [ 0  0  0 -1  1  1]\n",
      " [ 0  0  0  1  1 -1]\n",
      " [ 0  0  0  1  1  1]]\n",
      "_______________________________________\n",
      "rotated 2 times.\n",
      "[[ 0  1 -1  0  0  0]\n",
      " [ 0  1  1  0  0  0]\n",
      " [ 1 -1 -1  0  0  0]\n",
      " [ 0  0  0 -1  1  1]\n",
      " [ 0  0  0  1  1  1]\n",
      " [ 0  0  0  1 -1  1]]\n",
      "[[ 0  0  1  0  0  0]\n",
      " [ 1  1 -1  0  0  0]\n",
      " [-1  1 -1  0  0  0]\n",
      " [ 0  0  0 -1  1  1]\n",
      " [ 0  0  0  1  1 -1]\n",
      " [ 0  0  0  1  1  1]]\n",
      "\n",
      "reflected along Y axis\n",
      "[[ 0  0  0 -1  1  0]\n",
      " [ 0  0  0  1  1  0]\n",
      " [ 0  0  0 -1 -1  1]\n",
      " [ 1  1 -1  0  0  0]\n",
      " [ 1  1  1  0  0  0]\n",
      " [ 1 -1  1  0  0  0]]\n",
      "[[ 0  0  1  0  0  0]\n",
      " [ 1  1 -1  0  0  0]\n",
      " [-1  1 -1  0  0  0]\n",
      " [ 0  0  0 -1  1  1]\n",
      " [ 0  0  0  1  1 -1]\n",
      " [ 0  0  0  1  1  1]]\n",
      "\n",
      "reflected along X axis\n",
      "[[ 0  0  0  1 -1  1]\n",
      " [ 0  0  0  1  1  1]\n",
      " [ 0  0  0 -1  1  1]\n",
      " [ 1 -1 -1  0  0  0]\n",
      " [ 0  1  1  0  0  0]\n",
      " [ 0  1 -1  0  0  0]]\n",
      "[[ 0  0  1  0  0  0]\n",
      " [ 1  1 -1  0  0  0]\n",
      " [-1  1 -1  0  0  0]\n",
      " [ 0  0  0 -1  1  1]\n",
      " [ 0  0  0  1  1 -1]\n",
      " [ 0  0  0  1  1  1]]\n",
      "_______________________________________\n",
      "rotated 3 times.\n",
      "[[ 0  0  0  1  1  1]\n",
      " [ 0  0  0  1  1 -1]\n",
      " [ 0  0  0 -1  1  1]\n",
      " [-1  1 -1  0  0  0]\n",
      " [ 1  1 -1  0  0  0]\n",
      " [ 0  0  1  0  0  0]]\n",
      "[[ 0  0  1  0  0  0]\n",
      " [ 1  1 -1  0  0  0]\n",
      " [-1  1 -1  0  0  0]\n",
      " [ 0  0  0 -1  1  1]\n",
      " [ 0  0  0  1  1 -1]\n",
      " [ 0  0  0  1  1  1]]\n",
      "\n",
      "reflected along Y axis\n",
      "[[ 1  1  1  0  0  0]\n",
      " [-1  1  1  0  0  0]\n",
      " [ 1  1 -1  0  0  0]\n",
      " [ 0  0  0 -1  1 -1]\n",
      " [ 0  0  0 -1  1  1]\n",
      " [ 0  0  0  1  0  0]]\n",
      "[[ 0  0  1  0  0  0]\n",
      " [ 1  1 -1  0  0  0]\n",
      " [-1  1 -1  0  0  0]\n",
      " [ 0  0  0 -1  1  1]\n",
      " [ 0  0  0  1  1 -1]\n",
      " [ 0  0  0  1  1  1]]\n",
      "\n",
      "reflected along X axis\n",
      "[[ 0  0  1  0  0  0]\n",
      " [ 1  1 -1  0  0  0]\n",
      " [-1  1 -1  0  0  0]\n",
      " [ 0  0  0 -1  1  1]\n",
      " [ 0  0  0  1  1 -1]\n",
      " [ 0  0  0  1  1  1]]\n",
      "[[ 0  0  1  0  0  0]\n",
      " [ 1  1 -1  0  0  0]\n",
      " [-1  1 -1  0  0  0]\n",
      " [ 0  0  0 -1  1  1]\n",
      " [ 0  0  0  1  1 -1]\n",
      " [ 0  0  0  1  1  1]]\n",
      "_______________________________________\n"
     ]
    }
   ],
   "source": [
    "for x in [0,1,2,3]:\n",
    "    print(f\"rotated {x} times.\")\n",
    "    rotated = np.rot90(test_state, x)\n",
    "    print(rotated)\n",
    "    #if ideal_state != z : print(\"ERRORRRR\")\n",
    "    print(ideal_state(rotated))\n",
    "    print('')\n",
    "    \n",
    "    #l / r\n",
    "    print(\"reflected along Y axis\")\n",
    "    lr = np.fliplr(rotated)\n",
    "    print(lr)\n",
    "    print(ideal_state(lr))\n",
    "    print('')\n",
    "\n",
    "    #u/d\n",
    "    print(\"reflected along X axis\")\n",
    "    ud = np.flipud(rotated)\n",
    "    print(ud)\n",
    "    print(ideal_state(ud))\n",
    "    \n",
    "    print('_______________________________________')"
   ]
  },
  {
   "cell_type": "code",
   "execution_count": 116,
   "metadata": {},
   "outputs": [
    {
     "name": "stdout",
     "output_type": "stream",
     "text": [
      "[[ 1 -1  1  0  0  0]\n",
      " [ 1  2  1  0  0  0]\n",
      " [ 1  1  3  0  0  0]\n",
      " [ 0  0  0 -1 -1  2]\n",
      " [ 0  0  0  1  1  0]\n",
      " [ 0  0  0 -3  7  0]]\n",
      "[[ 1  2  3  4  5  6]\n",
      " [ 7  8  9 10 11 12]\n",
      " [13 14 15 16 17 18]\n",
      " [19 20 21 22 23 24]\n",
      " [25 26 27 28 29 30]\n",
      " [31 32 33 34 35 36]]\n",
      "620\n"
     ]
    }
   ],
   "source": [
    "print(test_state)\n",
    "ideal_state(test_state)"
   ]
  },
  {
   "cell_type": "code",
   "execution_count": 102,
   "metadata": {},
   "outputs": [
    {
     "data": {
      "text/plain": [
       "array([[0., 0., 0., 0., 0., 0.],\n",
       "       [0., 0., 0., 0., 0., 0.],\n",
       "       [0., 0., 1., 0., 0., 0.],\n",
       "       [0., 0., 1., 0., 0., 0.],\n",
       "       [0., 0., 0., 0., 0., 0.],\n",
       "       [0., 0., 0., 0., 0., 0.]])"
      ]
     },
     "execution_count": 102,
     "metadata": {},
     "output_type": "execute_result"
    }
   ],
   "source": [
    "np.fliplr(test_state)"
   ]
  },
  {
   "cell_type": "code",
   "execution_count": 103,
   "metadata": {},
   "outputs": [
    {
     "data": {
      "text/plain": [
       "array([[0., 0., 0., 0., 0., 0.],\n",
       "       [0., 0., 0., 0., 0., 0.],\n",
       "       [0., 0., 0., 1., 0., 0.],\n",
       "       [0., 0., 0., 1., 0., 0.],\n",
       "       [0., 0., 0., 0., 0., 0.],\n",
       "       [0., 0., 0., 0., 0., 0.]])"
      ]
     },
     "execution_count": 103,
     "metadata": {},
     "output_type": "execute_result"
    }
   ],
   "source": [
    "test_state = np.zeros((6,6))\n",
    "test_state[2,3] = 1\n",
    "test_state[3,3] = 1\n",
    "test_state"
   ]
  },
  {
   "cell_type": "code",
   "execution_count": null,
   "metadata": {},
   "outputs": [],
   "source": []
  },
  {
   "cell_type": "code",
   "execution_count": 103,
   "metadata": {},
   "outputs": [
    {
     "name": "stdout",
     "output_type": "stream",
     "text": [
      "rotated 0 times.\n",
      "[[1 2 1 0 0 0]\n",
      " [1 2 1 0 0 0]\n",
      " [1 1 3 0 0 0]\n",
      " [0 0 0 2 2 2]\n",
      " [0 0 0 1 1 0]\n",
      " [0 0 0 2 7 0]]\n",
      "[2.0, 2.2, 1.6, -2.0, -2.5, -1.0]\n",
      "[-2.0, -2.0, -1.6, 2.0, 1.5, 1.7777777777777777]\n",
      "(-0.32222222222222197, 0.3000000000000007)\n",
      "\n",
      "reflected along Y axis\n",
      "[[0 0 0 1 2 1]\n",
      " [0 0 0 1 2 1]\n",
      " [0 0 0 3 1 1]\n",
      " [2 2 2 0 0 0]\n",
      " [0 1 1 0 0 0]\n",
      " [0 7 2 0 0 0]]\n",
      "[-1.0, -2.5, -2.0, 1.6, 2.2, 2.0]\n",
      "[2.0, 2.0, 1.6, -2.0, -1.5, -1.7777777777777777]\n",
      "(0.32222222222222197, 0.30000000000000027)\n",
      "\n",
      "reflected along X axis\n",
      "[[0 0 0 2 7 0]\n",
      " [0 0 0 1 1 0]\n",
      " [0 0 0 2 2 2]\n",
      " [1 1 3 0 0 0]\n",
      " [1 2 1 0 0 0]\n",
      " [1 2 1 0 0 0]]\n",
      "[-2.0, -2.2, -1.6, 2.0, 2.5, 1.0]\n",
      "[1.7777777777777777, 1.5, 2.0, -1.6, -2.0, -2.0]\n",
      "(-0.3222222222222224, -0.3000000000000007)\n",
      "_______________________________________\n",
      "rotated 1 times.\n",
      "[[0 0 0 2 0 0]\n",
      " [0 0 0 2 1 7]\n",
      " [0 0 0 2 1 2]\n",
      " [1 1 3 0 0 0]\n",
      " [2 2 1 0 0 0]\n",
      " [1 1 1 0 0 0]]\n",
      "[-2.0, -2.0, -1.6, 2.0, 1.5, 1.7777777777777777]\n",
      "[1.0, 2.5, 2.0, -1.6, -2.2, -2.0]\n",
      "(-0.30000000000000027, -0.32222222222222197)\n",
      "\n",
      "reflected along Y axis\n",
      "[[0 0 2 0 0 0]\n",
      " [7 1 2 0 0 0]\n",
      " [2 1 2 0 0 0]\n",
      " [0 0 0 3 1 1]\n",
      " [0 0 0 1 2 2]\n",
      " [0 0 0 1 1 1]]\n",
      "[1.7777777777777777, 1.5, 2.0, -1.6, -2.0, -2.0]\n",
      "[-1.0, -2.5, -2.0, 1.6, 2.2, 2.0]\n",
      "(0.30000000000000027, -0.3222222222222224)\n",
      "\n",
      "reflected along X axis\n",
      "[[1 1 1 0 0 0]\n",
      " [2 2 1 0 0 0]\n",
      " [1 1 3 0 0 0]\n",
      " [0 0 0 2 1 2]\n",
      " [0 0 0 2 1 7]\n",
      " [0 0 0 2 0 0]]\n",
      "[2.0, 2.0, 1.6, -2.0, -1.5, -1.7777777777777777]\n",
      "[-2.0, -2.2, -1.6, 2.0, 2.5, 1.0]\n",
      "(-0.3000000000000007, 0.32222222222222197)\n",
      "_______________________________________\n",
      "rotated 2 times.\n",
      "[[0 7 2 0 0 0]\n",
      " [0 1 1 0 0 0]\n",
      " [2 2 2 0 0 0]\n",
      " [0 0 0 3 1 1]\n",
      " [0 0 0 1 2 1]\n",
      " [0 0 0 1 2 1]]\n",
      "[1.0, 2.5, 2.0, -1.6, -2.2, -2.0]\n",
      "[-1.7777777777777777, -1.5, -2.0, 1.6, 2.0, 2.0]\n",
      "(0.3222222222222224, -0.30000000000000027)\n",
      "\n",
      "reflected along Y axis\n",
      "[[0 0 0 2 7 0]\n",
      " [0 0 0 1 1 0]\n",
      " [0 0 0 2 2 2]\n",
      " [1 1 3 0 0 0]\n",
      " [1 2 1 0 0 0]\n",
      " [1 2 1 0 0 0]]\n",
      "[-2.0, -2.2, -1.6, 2.0, 2.5, 1.0]\n",
      "[1.7777777777777777, 1.5, 2.0, -1.6, -2.0, -2.0]\n",
      "(-0.3222222222222224, -0.3000000000000007)\n",
      "\n",
      "reflected along X axis\n",
      "[[0 0 0 1 2 1]\n",
      " [0 0 0 1 2 1]\n",
      " [0 0 0 3 1 1]\n",
      " [2 2 2 0 0 0]\n",
      " [0 1 1 0 0 0]\n",
      " [0 7 2 0 0 0]]\n",
      "[-1.0, -2.5, -2.0, 1.6, 2.2, 2.0]\n",
      "[2.0, 2.0, 1.6, -2.0, -1.5, -1.7777777777777777]\n",
      "(0.32222222222222197, 0.30000000000000027)\n",
      "_______________________________________\n",
      "rotated 3 times.\n",
      "[[0 0 0 1 1 1]\n",
      " [0 0 0 1 2 2]\n",
      " [0 0 0 3 1 1]\n",
      " [2 1 2 0 0 0]\n",
      " [7 1 2 0 0 0]\n",
      " [0 0 2 0 0 0]]\n",
      "[-1.7777777777777777, -1.5, -2.0, 1.6, 2.0, 2.0]\n",
      "[2.0, 2.2, 1.6, -2.0, -2.5, -1.0]\n",
      "(0.3000000000000007, 0.3222222222222224)\n",
      "\n",
      "reflected along Y axis\n",
      "[[1 1 1 0 0 0]\n",
      " [2 2 1 0 0 0]\n",
      " [1 1 3 0 0 0]\n",
      " [0 0 0 2 1 2]\n",
      " [0 0 0 2 1 7]\n",
      " [0 0 0 2 0 0]]\n",
      "[2.0, 2.0, 1.6, -2.0, -1.5, -1.7777777777777777]\n",
      "[-2.0, -2.2, -1.6, 2.0, 2.5, 1.0]\n",
      "(-0.3000000000000007, 0.32222222222222197)\n",
      "\n",
      "reflected along X axis\n",
      "[[0 0 2 0 0 0]\n",
      " [7 1 2 0 0 0]\n",
      " [2 1 2 0 0 0]\n",
      " [0 0 0 3 1 1]\n",
      " [0 0 0 1 2 2]\n",
      " [0 0 0 1 1 1]]\n",
      "[1.7777777777777777, 1.5, 2.0, -1.6, -2.0, -2.0]\n",
      "[-1.0, -2.5, -2.0, 1.6, 2.2, 2.0]\n",
      "(0.30000000000000027, -0.3222222222222224)\n",
      "_______________________________________\n"
     ]
    }
   ],
   "source": [
    "for x in [0,1,2,3]:\n",
    "    print(f\"rotated {x} times.\")\n",
    "    rotated = np.rot90(test_state, x)\n",
    "    #print(rotated)\n",
    "    print(point_mass(rotated))\n",
    "    print('')\n",
    "    \n",
    "    #l / r\n",
    "    print(\"reflected along Y axis\")\n",
    "    lr = np.fliplr(rotated)\n",
    "    #print(lr)\n",
    "    print(point_mass(lr))\n",
    "    print('')\n",
    "\n",
    "    #u/d\n",
    "    print(\"reflected along X axis\")\n",
    "    ud = np.flipud(rotated)\n",
    "    #print(ud)\n",
    "    print(point_mass(ud))\n",
    "    \n",
    "    print('_______________________________________')"
   ]
  },
  {
   "cell_type": "code",
   "execution_count": 103,
   "metadata": {},
   "outputs": [
    {
     "name": "stdout",
     "output_type": "stream",
     "text": [
      "rotated 0 times.\n",
      "[[1 2 1 0 0 0]\n",
      " [1 2 1 0 0 0]\n",
      " [1 1 3 0 0 0]\n",
      " [0 0 0 2 2 2]\n",
      " [0 0 0 1 1 0]\n",
      " [0 0 0 2 7 0]]\n",
      "[2.0, 2.2, 1.6, -2.0, -2.5, -1.0]\n",
      "[-2.0, -2.0, -1.6, 2.0, 1.5, 1.7777777777777777]\n",
      "(-0.32222222222222197, 0.3000000000000007)\n",
      "\n",
      "reflected along Y axis\n",
      "[[0 0 0 1 2 1]\n",
      " [0 0 0 1 2 1]\n",
      " [0 0 0 3 1 1]\n",
      " [2 2 2 0 0 0]\n",
      " [0 1 1 0 0 0]\n",
      " [0 7 2 0 0 0]]\n",
      "[-1.0, -2.5, -2.0, 1.6, 2.2, 2.0]\n",
      "[2.0, 2.0, 1.6, -2.0, -1.5, -1.7777777777777777]\n",
      "(0.32222222222222197, 0.30000000000000027)\n",
      "\n",
      "reflected along X axis\n",
      "[[0 0 0 2 7 0]\n",
      " [0 0 0 1 1 0]\n",
      " [0 0 0 2 2 2]\n",
      " [1 1 3 0 0 0]\n",
      " [1 2 1 0 0 0]\n",
      " [1 2 1 0 0 0]]\n",
      "[-2.0, -2.2, -1.6, 2.0, 2.5, 1.0]\n",
      "[1.7777777777777777, 1.5, 2.0, -1.6, -2.0, -2.0]\n",
      "(-0.3222222222222224, -0.3000000000000007)\n",
      "_______________________________________\n",
      "rotated 1 times.\n",
      "[[0 0 0 2 0 0]\n",
      " [0 0 0 2 1 7]\n",
      " [0 0 0 2 1 2]\n",
      " [1 1 3 0 0 0]\n",
      " [2 2 1 0 0 0]\n",
      " [1 1 1 0 0 0]]\n",
      "[-2.0, -2.0, -1.6, 2.0, 1.5, 1.7777777777777777]\n",
      "[1.0, 2.5, 2.0, -1.6, -2.2, -2.0]\n",
      "(-0.30000000000000027, -0.32222222222222197)\n",
      "\n",
      "reflected along Y axis\n",
      "[[0 0 2 0 0 0]\n",
      " [7 1 2 0 0 0]\n",
      " [2 1 2 0 0 0]\n",
      " [0 0 0 3 1 1]\n",
      " [0 0 0 1 2 2]\n",
      " [0 0 0 1 1 1]]\n",
      "[1.7777777777777777, 1.5, 2.0, -1.6, -2.0, -2.0]\n",
      "[-1.0, -2.5, -2.0, 1.6, 2.2, 2.0]\n",
      "(0.30000000000000027, -0.3222222222222224)\n",
      "\n",
      "reflected along X axis\n",
      "[[1 1 1 0 0 0]\n",
      " [2 2 1 0 0 0]\n",
      " [1 1 3 0 0 0]\n",
      " [0 0 0 2 1 2]\n",
      " [0 0 0 2 1 7]\n",
      " [0 0 0 2 0 0]]\n",
      "[2.0, 2.0, 1.6, -2.0, -1.5, -1.7777777777777777]\n",
      "[-2.0, -2.2, -1.6, 2.0, 2.5, 1.0]\n",
      "(-0.3000000000000007, 0.32222222222222197)\n",
      "_______________________________________\n",
      "rotated 2 times.\n",
      "[[0 7 2 0 0 0]\n",
      " [0 1 1 0 0 0]\n",
      " [2 2 2 0 0 0]\n",
      " [0 0 0 3 1 1]\n",
      " [0 0 0 1 2 1]\n",
      " [0 0 0 1 2 1]]\n",
      "[1.0, 2.5, 2.0, -1.6, -2.2, -2.0]\n",
      "[-1.7777777777777777, -1.5, -2.0, 1.6, 2.0, 2.0]\n",
      "(0.3222222222222224, -0.30000000000000027)\n",
      "\n",
      "reflected along Y axis\n",
      "[[0 0 0 2 7 0]\n",
      " [0 0 0 1 1 0]\n",
      " [0 0 0 2 2 2]\n",
      " [1 1 3 0 0 0]\n",
      " [1 2 1 0 0 0]\n",
      " [1 2 1 0 0 0]]\n",
      "[-2.0, -2.2, -1.6, 2.0, 2.5, 1.0]\n",
      "[1.7777777777777777, 1.5, 2.0, -1.6, -2.0, -2.0]\n",
      "(-0.3222222222222224, -0.3000000000000007)\n",
      "\n",
      "reflected along X axis\n",
      "[[0 0 0 1 2 1]\n",
      " [0 0 0 1 2 1]\n",
      " [0 0 0 3 1 1]\n",
      " [2 2 2 0 0 0]\n",
      " [0 1 1 0 0 0]\n",
      " [0 7 2 0 0 0]]\n",
      "[-1.0, -2.5, -2.0, 1.6, 2.2, 2.0]\n",
      "[2.0, 2.0, 1.6, -2.0, -1.5, -1.7777777777777777]\n",
      "(0.32222222222222197, 0.30000000000000027)\n",
      "_______________________________________\n",
      "rotated 3 times.\n",
      "[[0 0 0 1 1 1]\n",
      " [0 0 0 1 2 2]\n",
      " [0 0 0 3 1 1]\n",
      " [2 1 2 0 0 0]\n",
      " [7 1 2 0 0 0]\n",
      " [0 0 2 0 0 0]]\n",
      "[-1.7777777777777777, -1.5, -2.0, 1.6, 2.0, 2.0]\n",
      "[2.0, 2.2, 1.6, -2.0, -2.5, -1.0]\n",
      "(0.3000000000000007, 0.3222222222222224)\n",
      "\n",
      "reflected along Y axis\n",
      "[[1 1 1 0 0 0]\n",
      " [2 2 1 0 0 0]\n",
      " [1 1 3 0 0 0]\n",
      " [0 0 0 2 1 2]\n",
      " [0 0 0 2 1 7]\n",
      " [0 0 0 2 0 0]]\n",
      "[2.0, 2.0, 1.6, -2.0, -1.5, -1.7777777777777777]\n",
      "[-2.0, -2.2, -1.6, 2.0, 2.5, 1.0]\n",
      "(-0.3000000000000007, 0.32222222222222197)\n",
      "\n",
      "reflected along X axis\n",
      "[[0 0 2 0 0 0]\n",
      " [7 1 2 0 0 0]\n",
      " [2 1 2 0 0 0]\n",
      " [0 0 0 3 1 1]\n",
      " [0 0 0 1 2 2]\n",
      " [0 0 0 1 1 1]]\n",
      "[1.7777777777777777, 1.5, 2.0, -1.6, -2.0, -2.0]\n",
      "[-1.0, -2.5, -2.0, 1.6, 2.2, 2.0]\n",
      "(0.30000000000000027, -0.3222222222222224)\n",
      "_______________________________________\n"
     ]
    }
   ],
   "source": [
    "for x in [0,1,2,3]:\n",
    "    print(f\"rotated {x} times.\")\n",
    "    rotated = np.rot90(test_state, x)\n",
    "    #print(rotated)\n",
    "    print(point_mass(rotated))\n",
    "    print('')\n",
    "    \n",
    "    #l / r\n",
    "    print(\"reflected along Y axis\")\n",
    "    lr = np.fliplr(rotated)\n",
    "    #print(lr)\n",
    "    print(point_mass(lr))\n",
    "    print('')\n",
    "\n",
    "    #u/d\n",
    "    print(\"reflected along X axis\")\n",
    "    ud = np.flipud(rotated)\n",
    "    #print(ud)\n",
    "    print(point_mass(ud))\n",
    "    \n",
    "    print('_______________________________________')"
   ]
  },
  {
   "cell_type": "code",
   "execution_count": 5,
   "metadata": {},
   "outputs": [
    {
     "ename": "SyntaxError",
     "evalue": "invalid syntax (<ipython-input-5-9f453d17e641>, line 2)",
     "output_type": "error",
     "traceback": [
      "\u001b[0;36m  File \u001b[0;32m\"<ipython-input-5-9f453d17e641>\"\u001b[0;36m, line \u001b[0;32m2\u001b[0m\n\u001b[0;31m    best_rotation =\u001b[0m\n\u001b[0m                    ^\u001b[0m\n\u001b[0;31mSyntaxError\u001b[0m\u001b[0;31m:\u001b[0m invalid syntax\n"
     ]
    }
   ],
   "source": [
    "def regularize_symmetry(matrix_input):\n",
    "    best_rotation = "
   ]
  },
  {
   "cell_type": "code",
   "execution_count": 14,
   "metadata": {},
   "outputs": [
    {
     "data": {
      "text/plain": [
       "array([[  0,   0,   0,  -1,  -1,  -3],\n",
       "       [  0,   0,   0,  -1,  -2, -17],\n",
       "       [  0,   0,   0,  -1,  -1,  -1],\n",
       "       [ 55,   1,   3,   0,   0,   0],\n",
       "       [  1,   2,   1,   0,   0,   0],\n",
       "       [  1,   1,   1,   0,   0,   0]])"
      ]
     },
     "execution_count": 14,
     "metadata": {},
     "output_type": "execute_result"
    }
   ],
   "source": [
    "np.rot90(test_state)"
   ]
  },
  {
   "cell_type": "code",
   "execution_count": 15,
   "metadata": {},
   "outputs": [
    {
     "data": {
      "text/plain": [
       "array([[ -3, -17,  -1,   0,   0,   0],\n",
       "       [ -1,  -2,  -1,   0,   0,   0],\n",
       "       [ -1,  -1,  -1,   0,   0,   0],\n",
       "       [  0,   0,   0,   3,   1,   1],\n",
       "       [  0,   0,   0,   1,   2,   1],\n",
       "       [  0,   0,   0,  55,   1,   1]])"
      ]
     },
     "execution_count": 15,
     "metadata": {},
     "output_type": "execute_result"
    }
   ],
   "source": [
    "np.rot90(test_state, 2)"
   ]
  },
  {
   "cell_type": "code",
   "execution_count": 16,
   "metadata": {},
   "outputs": [
    {
     "data": {
      "text/plain": [
       "array([[  0,   0,   0,   1,   1,   1],\n",
       "       [  0,   0,   0,   1,   2,   1],\n",
       "       [  0,   0,   0,   3,   1,  55],\n",
       "       [ -1,  -1,  -1,   0,   0,   0],\n",
       "       [-17,  -2,  -1,   0,   0,   0],\n",
       "       [ -3,  -1,  -1,   0,   0,   0]])"
      ]
     },
     "execution_count": 16,
     "metadata": {},
     "output_type": "execute_result"
    }
   ],
   "source": [
    "np.rot90(test_state, 3)"
   ]
  },
  {
   "cell_type": "code",
   "execution_count": 18,
   "metadata": {},
   "outputs": [
    {
     "data": {
      "text/plain": [
       "array([[  1,   1,  55,   0,   0,   0],\n",
       "       [  1,   2,   1,   0,   0,   0],\n",
       "       [  1,   1,   3,   0,   0,   0],\n",
       "       [  0,   0,   0,  -1,  -1,  -1],\n",
       "       [  0,   0,   0,  -1,  -2,  -1],\n",
       "       [  0,   0,   0,  -1, -17,  -3]])"
      ]
     },
     "execution_count": 18,
     "metadata": {},
     "output_type": "execute_result"
    }
   ],
   "source": [
    "test_state"
   ]
  },
  {
   "cell_type": "code",
   "execution_count": 19,
   "metadata": {},
   "outputs": [
    {
     "data": {
      "text/plain": [
       "array([[ -3, -17,  -1,   0,   0,   0],\n",
       "       [ -1,  -2,  -1,   0,   0,   0],\n",
       "       [ -1,  -1,  -1,   0,   0,   0],\n",
       "       [  0,   0,   0,   3,   1,   1],\n",
       "       [  0,   0,   0,   1,   2,   1],\n",
       "       [  0,   0,   0,  55,   1,   1]])"
      ]
     },
     "execution_count": 19,
     "metadata": {},
     "output_type": "execute_result"
    }
   ],
   "source": [
    "np.flipud(np.fliplr(test_state))"
   ]
  },
  {
   "cell_type": "code",
   "execution_count": 9,
   "metadata": {},
   "outputs": [
    {
     "data": {
      "text/plain": [
       "array([[  0,   0,   0,  55,   1,   1],\n",
       "       [  0,   0,   0,   1,   2,   1],\n",
       "       [  0,   0,   0,   3,   1,   1],\n",
       "       [ -1,  -1,  -1,   0,   0,   0],\n",
       "       [ -1,  -2,  -1,   0,   0,   0],\n",
       "       [ -3, -17,  -1,   0,   0,   0]])"
      ]
     },
     "execution_count": 9,
     "metadata": {},
     "output_type": "execute_result"
    }
   ],
   "source": [
    "np.rot90(np.fliplr(test_state)"
   ]
  },
  {
   "cell_type": "code",
   "execution_count": 10,
   "metadata": {},
   "outputs": [
    {
     "data": {
      "text/plain": [
       "array([[  0,   0,   0,  -1, -17,  -3],\n",
       "       [  0,   0,   0,  -1,  -2,  -1],\n",
       "       [  0,   0,   0,  -1,  -1,  -1],\n",
       "       [  1,   1,   3,   0,   0,   0],\n",
       "       [  1,   2,   1,   0,   0,   0],\n",
       "       [  1,   1,  55,   0,   0,   0]])"
      ]
     },
     "execution_count": 10,
     "metadata": {},
     "output_type": "execute_result"
    }
   ],
   "source": [
    "np.flipud(test_state)"
   ]
  },
  {
   "cell_type": "code",
   "execution_count": 12,
   "metadata": {},
   "outputs": [
    {
     "name": "stdout",
     "output_type": "stream",
     "text": [
      "[ 3  0  1  0  0 -3]\n"
     ]
    },
    {
     "data": {
      "text/plain": [
       "1"
      ]
     },
     "execution_count": 12,
     "metadata": {},
     "output_type": "execute_result"
    }
   ],
   "source": [
    "xx = np.array([1,0,1,0,0,1])\n",
    "print(xx*np.array([3,2,1,-1,-2,-3]))\n",
    "xx.dot(np.array([3,2,1,-1,-2,-3]))"
   ]
  },
  {
   "cell_type": "markdown",
   "metadata": {},
   "source": [
    "# update q table algo:"
   ]
  },
  {
   "cell_type": "code",
   "execution_count": null,
   "metadata": {},
   "outputs": [],
   "source": []
  },
  {
   "cell_type": "code",
   "execution_count": null,
   "metadata": {},
   "outputs": [],
   "source": []
  },
  {
   "cell_type": "code",
   "execution_count": null,
   "metadata": {},
   "outputs": [],
   "source": []
  },
  {
   "cell_type": "code",
   "execution_count": 3,
   "metadata": {},
   "outputs": [
    {
     "data": {
      "text/plain": [
       "array([[ 1,  1,  0,  0,  0],\n",
       "       [ 1,  1,  0,  0,  0],\n",
       "       [ 1,  1,  0,  0,  0],\n",
       "       [ 0,  0, -1, -1, -1],\n",
       "       [ 0,  0, -1, -1, -1],\n",
       "       [ 0,  0, -1, -1, -1]])"
      ]
     },
     "execution_count": 3,
     "metadata": {},
     "output_type": "execute_result"
    }
   ],
   "source": [
    "test_state[:,1:]"
   ]
  },
  {
   "cell_type": "code",
   "execution_count": 68,
   "metadata": {},
   "outputs": [
    {
     "name": "stdout",
     "output_type": "stream",
     "text": [
      "[[ 1  1  1  0  0  0]\n",
      " [ 1  1  1  1  1  0]\n",
      " [ 1  1  1  0  0  0]\n",
      " [ 0  0  0 -1 -1 -1]\n",
      " [ 0  0  0 -1 -1 -1]\n",
      " [ 0  0  0 -1 -1 -1]]\n",
      "[[ 1  1  0  0  0]\n",
      " [ 1  1  0  0  0]\n",
      " [ 1  1  0  0  0]\n",
      " [ 1  0 -1 -1 -1]\n",
      " [ 1  0 -1 -1 -1]\n",
      " [ 0  0 -1 -1 -1]\n",
      " [ 1  1  1  0  0]\n",
      " [ 1  1  1  0  0]\n",
      " [ 1  1  1  0  0]\n",
      " [ 0  1  0 -1 -1]\n",
      " [ 0  1  0 -1 -1]\n",
      " [ 0  0  0 -1 -1]\n",
      " [ 1  1  0  0  0]\n",
      " [ 1  1  1  1  0]\n",
      " [ 1  1  0  0  0]\n",
      " [ 0  0 -1 -1 -1]\n",
      " [ 0  0 -1 -1 -1]\n",
      " [ 0  0 -1 -1 -1]\n",
      " [ 1  1  1  0  0]\n",
      " [ 1  1  1  1  1]\n",
      " [ 1  1  1  0  0]\n",
      " [ 0  0  0 -1 -1]\n",
      " [ 0  0  0 -1 -1]\n",
      " [ 0  0  0 -1 -1]\n",
      " [ 1  1 -1 -1 -1]\n",
      " [ 1  1  1 -1 -1]\n",
      " [ 1  0  0  0  0]\n",
      " [ 1  0  0  0  0]]\n",
      "[ 2  2  2 -2 -2 -3  3  3  3 -1 -1 -2  2  4  2 -3 -3 -3  3  5  3 -2 -2 -2\n",
      " -1  1  1  1]\n",
      "True False\n"
     ]
    }
   ],
   "source": [
    "test_state = np.array([[1,1,1,0,0,0],[1,1,1,1,1,0],[1,1,1,0,0,0],[0,0,0,-1,-1,-1],[0,0,0,-1,-1,-1],[0,0,0,-1,-1,-1]])\n",
    "print(test_state)\n",
    "def find_winner(board_state):\n",
    "    white_win = False\n",
    "    black_win = False\n",
    "    diagnol1 = board_state.diagonal()\n",
    "    diagnol2 = np.fliplr(board_state).diagonal()\n",
    "    winning_slices =  np.vstack([board_state[1:,:].T, board_state[:-1,:].T, # all columns\n",
    "                          board_state[:,1:], board_state[:,:-1], # all rows\n",
    "                          diagnol1[1:], diagnol1[:-1], # diagnol 1\n",
    "                          diagnol2[1:],diagnol2[1:]]) # diagnol 2\n",
    "    print(winning_slices)\n",
    "    sums = np.dot(winning_slices, np.array([1,1,1,1,1]))\n",
    "    print(sums)\n",
    "    if 5 in sums: white_win = True\n",
    "    if -5 in sums: black_win = True\n",
    "    print(white_win, black_win)\n",
    "find_winner(test_state)"
   ]
  },
  {
   "cell_type": "code",
   "execution_count": 58,
   "metadata": {},
   "outputs": [
    {
     "ename": "ValueError",
     "evalue": "cannot reshape array of size 5 into shape (1,)",
     "output_type": "error",
     "traceback": [
      "\u001b[0;31m---------------------------------------------------------------------------\u001b[0m",
      "\u001b[0;31mValueError\u001b[0m                                Traceback (most recent call last)",
      "\u001b[0;32m<ipython-input-58-1fe086b2430e>\u001b[0m in \u001b[0;36m<module>\u001b[0;34m\u001b[0m\n\u001b[0;32m----> 1\u001b[0;31m \u001b[0mtest_state\u001b[0m\u001b[0;34m.\u001b[0m\u001b[0mdiagonal\u001b[0m\u001b[0;34m(\u001b[0m\u001b[0;34m)\u001b[0m\u001b[0;34m[\u001b[0m\u001b[0;36m1\u001b[0m\u001b[0;34m:\u001b[0m\u001b[0;34m]\u001b[0m\u001b[0;34m.\u001b[0m\u001b[0mreshape\u001b[0m\u001b[0;34m(\u001b[0m\u001b[0;36m1\u001b[0m\u001b[0;34m,\u001b[0m\u001b[0;34m)\u001b[0m\u001b[0;34m\u001b[0m\u001b[0;34m\u001b[0m\u001b[0m\n\u001b[0m",
      "\u001b[0;31mValueError\u001b[0m: cannot reshape array of size 5 into shape (1,)"
     ]
    }
   ],
   "source": [
    "test_state.diagonal()[1:].reshape(1,)"
   ]
  },
  {
   "cell_type": "code",
   "execution_count": null,
   "metadata": {},
   "outputs": [],
   "source": []
  }
 ],
 "metadata": {
  "kernelspec": {
   "display_name": "Python 3",
   "language": "python",
   "name": "python3"
  },
  "language_info": {
   "codemirror_mode": {
    "name": "ipython",
    "version": 3
   },
   "file_extension": ".py",
   "mimetype": "text/x-python",
   "name": "python",
   "nbconvert_exporter": "python",
   "pygments_lexer": "ipython3",
   "version": "3.7.3"
  }
 },
 "nbformat": 4,
 "nbformat_minor": 4
}
